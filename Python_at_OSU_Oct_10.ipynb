{
 "metadata": {
  "celltoolbar": "Slideshow",
  "name": "",
  "signature": "sha256:3c58046837c58881f09490e967d56e47abc373b082e827e62fd12a723d54e771"
 },
 "nbformat": 3,
 "nbformat_minor": 0,
 "worksheets": [
  {
   "cells": [
    {
     "cell_type": "markdown",
     "metadata": {
      "slideshow": {
       "slide_type": "slide"
      }
     },
     "source": [
      "<div align=\"center\">\n",
      "<h1>\n",
      "Using Python (& IPython) for Visualization and Computation\n",
      "</h1>\n",
      "<div width=1px height=100px>\n",
      "</div>\n",
      "<h2>\n",
      "Jon Woodring\n",
      "<br>\n",
      "Los Alamos National Laboratory\n",
      "</h2>\n",
      "<h3>\n",
      "The Ohio State University\n",
      "<br>\n",
      "October 10, 2014\n",
      "</h3>\n",
      "</div>"
     ]
    },
    {
     "cell_type": "markdown",
     "metadata": {
      "slideshow": {
       "slide_type": "slide"
      }
     },
     "source": [
      "# To follow along in IPython #\n",
      "\n",
      "## Step One ##\n",
      "\n",
      "Download this IPython notebook at Github:\n",
      "\n",
      "https://github.com/DataScienceAtScale/python-at-osu-oct-10 *then click on the link in the README*\n",
      "\n",
      "or get it directly via\n",
      "\n",
      "https://raw.githubusercontent.com/DataScienceAtScale/python-at-osu-oct-10/master/Python_at_OSU_Oct_10.ipynb\n",
      "\n",
      "# Optionally follow along without IPython #\n",
      "\n",
      "Use nbviewer to see the static version of the notebook in the web:\n",
      "\n",
      "http://nbviewer.ipython.org/github/DataScienceAtScale/python-at-osu-oct-10/blob/master/Python_at_OSU_Oct_10.ipynb\n",
      "\n",
      "**You can stop here if you are viewing the static web version.**\n",
      "\n",
      "# All of these were generated from the same IPython Notebook, including these slides! #"
     ]
    },
    {
     "cell_type": "markdown",
     "metadata": {
      "slideshow": {
       "slide_type": "slide"
      }
     },
     "source": [
      "## Step Two ##\n",
      "\n",
      "Download and install Anaconda Python from Continuum Analytics. Use Python 3.4, as there isn't a good reason to use 2.7 as a beginner:\n",
      "\n",
      "http://continuum.io/downloads#py34\n",
      "\n",
      "### Optional Install ###\n",
      "\n",
      "There are other Python options as well, such as *Python(X,Y)*, *WinPython*, *MiniConda* version of *Anaconda*, or using *pip* to install packages with an existing installed version of *Python*. \n",
      "\n",
      "If you are using any of these versions, also make sure that you install:\n",
      "- IPython Notebook (will also get IPython command line as a dependency)\n",
      "- SciPy (will also get NumPy as a dependency)\n",
      "- Pandas\n",
      "- Matplotlib"
     ]
    },
    {
     "cell_type": "markdown",
     "metadata": {
      "slideshow": {
       "slide_type": "slide"
      }
     },
     "source": [
      "## Step Three ##\n",
      "\n",
      "Launch IPython Notebook in the directory where *Python_at_OSU_Oct_10.ipynb* is located.\n",
      "\n",
      "This will open a webpage for the IPython Notebook interface. From the terminal (for example if you downloaded the notebook in Downloads):\n",
      "\n",
      "```bash\n",
      "$ cd ~/Downloads\n",
      "$ ls Python_at_OSU_Oct_10.ipynb\n",
      "Python_at_OSU_Oct_10.ipynb\n",
      "$ ipython notebook\n",
      "```\n",
      "\n",
      "Alternatively, launch IPython Notebook and copy the notebook file into the directory where ipython was launched:\n",
      "\n",
      "```bash\n",
      "$ cp ~/Downloads/Python_at_OSU_Oct_10.ipynb .\n",
      "$ ipython notebook\n",
      "```"
     ]
    },
    {
     "cell_type": "markdown",
     "metadata": {
      "slideshow": {
       "slide_type": "slide"
      }
     },
     "source": [
      "### What it looks like if you successfully launched IPython Notebook ###\n",
      "\n",
      "![First page when you open IPython Notebook](front.png)"
     ]
    },
    {
     "cell_type": "markdown",
     "metadata": {
      "slideshow": {
       "slide_type": "slide"
      }
     },
     "source": [
      "## Step Four ##\n",
      "\n",
      "Open the notebook (*Python_at_OSU_Oct_10.ipynb*) from the web interface that was opened in your browser:\n",
      "\n",
      "![After opening the notebook file](opened.png)"
     ]
    },
    {
     "cell_type": "markdown",
     "metadata": {
      "slideshow": {
       "slide_type": "slide"
      }
     },
     "source": [
      "# 4 Reasons Why I like Python #\n",
      "\n",
      "## Rather than telling you why you should like it, I'm going to tell you why I like it. ##"
     ]
    },
    {
     "cell_type": "markdown",
     "metadata": {
      "slideshow": {
       "slide_type": "slide"
      }
     },
     "source": [
      "# My 881 project written in Python (taken with with Professor Dey) still works #\n",
      "## I haven't touched it in 10+ years and I just ran it last Friday to see if it worked ##\n",
      "\n",
      "![Curves and subdivision surfaces in Python](881.png)\n",
      "\n",
      "# Yep! Still works! #\n",
      "## I have written volume renderers, high-dimensional visualizations, analysis tools, web servers, benchmarks, parallel processing, data manipulation, demonstrations, etc. all in Python ##"
     ]
    },
    {
     "cell_type": "markdown",
     "metadata": {
      "slideshow": {
       "slide_type": "slide"
      }
     },
     "source": [
      "#import antigravity#\n",
      "\n",
      "![I wrote 20 short programs in Python yesterday.  It was wonderful.  Perl, I'm leaving you.](http://imgs.xkcd.com/comics/python.png)\n",
      "\n",
      "## and a million other things: numerics, graphics, web, GPU, distributed, GUIs, databases, analytics, etc.\n",
      "\n",
      "### The things that Python isn't good at (yet): compilation and shared-memory threading ###"
     ]
    },
    {
     "cell_type": "code",
     "collapsed": false,
     "input": [
      "# The language is fun #\n",
      "\n",
      "# Not much boilerplate - not as lean as Haskell, but not as verbose as Java\n",
      "xs = [x ** 2 for x in range(0, 20) if x % 3 == 0] # a filter and map as a list\n",
      "print(xs[0], xs[1:-1], xs[-1]) # let's print the first item, the last item, and everything in between\n",
      "while len(xs) > 0: # a while loop\n",
      "    if xs[0] % 2 == 0: # if it's divisible by 2\n",
      "        print(xs[0])    # get the first item\n",
      "    xs = xs[1:]        # strip off the rest\n",
      "\n",
      "# \"Functional-ish\" programming with lists, lambdas, first-class functions, partials, closures, etc.\n",
      "funcs = [lambda x: x + 1, lambda x: x - 1, lambda x: x * 2, lambda x: x // 2] # a list of functions\n",
      "print([i(j) for (i, j) in zip(funcs, [2] * len(funcs))]) # let's iterate over the functions\n",
      "\n",
      "# Duck typing for rapid development (though, many would argue that's a flaw-- do more unit testing)\n",
      "class duck:           \n",
      "    def quack(self):\n",
      "        print(\"'quack!'\")\n",
      "class human:\n",
      "    def quack(self):\n",
      "        print('\"quack, I say!\"')\n",
      "ducks = [duck() for i in range(0, 3)] + [human()] # bunch of ducks\n",
      "for d in ducks: # if it walks and talks like a duck\n",
      "    d.quack()   # then, it's a duck"
     ],
     "language": "python",
     "metadata": {
      "slideshow": {
       "slide_type": "slide"
      }
     },
     "outputs": [
      {
       "output_type": "stream",
       "stream": "stdout",
       "text": [
        "0 [9, 36, 81, 144, 225] 324\n",
        "0\n",
        "36\n",
        "144\n",
        "324\n",
        "[3, 1, 4, 1]\n",
        "'quack!'\n",
        "'quack!'\n",
        "'quack!'\n",
        "\"quack, I say!\"\n"
       ]
      }
     ],
     "prompt_number": 15
    },
    {
     "cell_type": "markdown",
     "metadata": {
      "slideshow": {
       "slide_type": "slide"
      }
     },
     "source": [
      "# IPython + Matplotlib + Numpy + SciPy + SQLite = Amazing #\n",
      "\n",
      "## Everything in this tutorial was created with these Python tools ##\n",
      "\n",
      "## A mention goes to Cython, which makes it really easy to call C code directly from Python##"
     ]
    },
    {
     "cell_type": "code",
     "collapsed": false,
     "input": [
      "# So let's get into it\n",
      "\n",
      "print('Hello world!')"
     ],
     "language": "python",
     "metadata": {
      "slideshow": {
       "slide_type": "slide"
      }
     },
     "outputs": [
      {
       "output_type": "stream",
       "stream": "stdout",
       "text": [
        "Hello world!\n"
       ]
      }
     ],
     "prompt_number": 2
    },
    {
     "cell_type": "markdown",
     "metadata": {
      "slideshow": {
       "slide_type": "slide"
      }
     },
     "source": [
      "# Python #\n",
      "\n",
      "- A dynamically typed language (methods and functions are checked at run-time)\n",
      "- Whitespace is meaningful for blocks (no semi-colons/terminators)\n",
      "- Syntax is C-like (Algol-like)\n",
      "- Built-in data types: integers, floating point, strings, etc.\n",
      "- Built-in data structures: tuples, lists, associative maps (dicts/hashes), sets, etc.\n",
      "- Exception handling (try/except)\n",
      "- Functions are first-class (they can be passed around as arguments)\n",
      "- Object-oriented paradigms can be used (classes)\n",
      "- A huge standard library\n",
      "- CPython is the standard implementation, which is interpreted (there are efforts to make JIT compilers, such as *pypy* and *Numba*)\n",
      "- Bind to C for speed (Python is an excellent \"glue\" language)\n"
     ]
    },
    {
     "cell_type": "code",
     "collapsed": false,
     "input": [
      "# assignment & print function\n",
      "\n",
      "x = 0 # you don't have to declare\n",
      "print(x) # calling built-in function\n",
      "\n",
      "y = 1.0 # just assign a literal to a name\n",
      "print(y) # looks just like C and other Algol-languages\n",
      "\n",
      "z = 'foo' # a string with quotes\n",
      "print(z) # no semi-colons or other terminators\n",
      "\n",
      "w = \"bar\" # another string with double quotes (either works)\n",
      "print(w)"
     ],
     "language": "python",
     "metadata": {
      "slideshow": {
       "slide_type": "slide"
      }
     },
     "outputs": [
      {
       "output_type": "stream",
       "stream": "stdout",
       "text": [
        "0\n",
        "1.0\n",
        "foo\n",
        "bar\n"
       ]
      }
     ],
     "prompt_number": 73
    },
    {
     "cell_type": "code",
     "collapsed": false,
     "input": [
      "# more assignment & expressions\n",
      "\n",
      "x = 1\n",
      "y = 2\n",
      "z = 3\n",
      "r = 'one'\n",
      "s = 'two'\n",
      "t = 'three'\n",
      "f = 1.0\n",
      "\n",
      "a = x * y + z # expressions look like most other infix notation\n",
      "print(a)\n",
      "\n",
      "print(r + s + t) # concatenating strings & expression in a function argument\n",
      "\n",
      "b, c, d = x + f, 4 * f, y ** z # multiple assigments on one line\n",
      "print(b, c, d) # adding numeric types casts integer to float\n",
      "\n",
      "print(x + r) # but this doesn't work (won't cast a numeric to a string, unlike Javascript)"
     ],
     "language": "python",
     "metadata": {},
     "outputs": [
      {
       "output_type": "stream",
       "stream": "stdout",
       "text": [
        "5\n",
        "onetwothree\n",
        "2.0 4.0 8\n"
       ]
      },
      {
       "ename": "TypeError",
       "evalue": "unsupported operand type(s) for +: 'int' and 'str'",
       "output_type": "pyerr",
       "traceback": [
        "\u001b[1;31m---------------------------------------------------------------------------\u001b[0m\n\u001b[1;31mTypeError\u001b[0m                                 Traceback (most recent call last)",
        "\u001b[1;32m<ipython-input-76-c25e8741e59f>\u001b[0m in \u001b[0;36m<module>\u001b[1;34m()\u001b[0m\n\u001b[0;32m     17\u001b[0m \u001b[0mprint\u001b[0m\u001b[1;33m(\u001b[0m\u001b[0mb\u001b[0m\u001b[1;33m,\u001b[0m \u001b[0mc\u001b[0m\u001b[1;33m,\u001b[0m \u001b[0md\u001b[0m\u001b[1;33m)\u001b[0m \u001b[1;31m# adding numeric types casts integer to float\u001b[0m\u001b[1;33m\u001b[0m\u001b[0m\n\u001b[0;32m     18\u001b[0m \u001b[1;33m\u001b[0m\u001b[0m\n\u001b[1;32m---> 19\u001b[1;33m \u001b[0mprint\u001b[0m\u001b[1;33m(\u001b[0m\u001b[0mx\u001b[0m \u001b[1;33m+\u001b[0m \u001b[0mr\u001b[0m\u001b[1;33m)\u001b[0m \u001b[1;31m# but this doesn't work (won't cast a numeric to a string, unlike Javascript)\u001b[0m\u001b[1;33m\u001b[0m\u001b[0m\n\u001b[0m",
        "\u001b[1;31mTypeError\u001b[0m: unsupported operand type(s) for +: 'int' and 'str'"
       ]
      }
     ],
     "prompt_number": 76
    },
    {
     "cell_type": "code",
     "collapsed": false,
     "input": [
      "# conversions\n",
      "\n",
      "x = '1.01'\n",
      "\n",
      "print(x, type(x)) # type is another built-in function\n",
      "x = float(x) # x is now a float\n",
      "print(x, type(x)) # print can take multiple arguments\n",
      "x = int(x)\n",
      "print(x, type(x)) # now it's an integer\n",
      "x = str(x)\n",
      "print(x, type(x))"
     ],
     "language": "python",
     "metadata": {},
     "outputs": [
      {
       "output_type": "stream",
       "stream": "stdout",
       "text": [
        "1.01 <class 'str'>\n",
        "1.01 <class 'float'>\n",
        "1 <class 'int'>\n",
        "1 <class 'str'>\n"
       ]
      }
     ],
     "prompt_number": 81
    },
    {
     "cell_type": "code",
     "collapsed": false,
     "input": [
      "# lists (vectors, really)\n",
      "\n",
      "x = [1, 2, 3, 4, 5] # a list of integers\n",
      "print(x)\n",
      "\n",
      "y = [1.0, 2.0, 3.0, 4.0, 5.0] # a list of floating point\n",
      "print(y)\n",
      "\n",
      "z = ['a', 'b', 'c', 'd', 'e'] # a list of strings\n",
      "print(z)\n",
      "\n",
      "w = [1, 'two', 3.0, \"four\", print, 'last'] # can we mix them?\n",
      "print(w) # yes, we can"
     ],
     "language": "python",
     "metadata": {
      "slideshow": {
       "slide_type": "slide"
      }
     },
     "outputs": [
      {
       "output_type": "stream",
       "stream": "stdout",
       "text": [
        "[1, 2, 3, 4, 5]\n",
        "[1.0, 2.0, 3.0, 4.0, 5.0]\n",
        "['a', 'b', 'c', 'd', 'e']\n",
        "[1, 'two', 3.0, 'four', <built-in function print>, 'last']\n"
       ]
      }
     ],
     "prompt_number": 43
    },
    {
     "cell_type": "code",
     "collapsed": false,
     "input": [
      "# accessing lists\n",
      "\n",
      "w = [1, 'two', 3.0, \"four\", print, 'last'] \n",
      "print(w)\n",
      "\n",
      "# accessing is array notation\n",
      "# a Python list is like a \"vector\" in C++\n",
      "# random access, reverse is constant time, etc.\n",
      "print(w[0]) # first item\n",
      "print(w[1]) # second item\n",
      "print(w[len(w)-1]) # last item, len is a built-in function\n",
      "print(w[-1]) # this is the last item, too\n",
      "print(w[-2]) # second to last\n",
      "\n",
      "w[0] = w[-1] # let's copy the last item to the first\n",
      "print(w[0])"
     ],
     "language": "python",
     "metadata": {},
     "outputs": [
      {
       "output_type": "stream",
       "stream": "stdout",
       "text": [
        "[1, 'two', 3.0, 'four', <built-in function print>, 'last']\n",
        "1\n",
        "two\n",
        "last\n",
        "last\n",
        "<built-in function print>\n",
        "[3.0, 'four', <built-in function print>, 'last']\n",
        "[1, 'two']\n",
        "[1, 'two', 3.0, 'four', <built-in function print>, 'last']\n",
        "last\n"
       ]
      }
     ],
     "prompt_number": 56
    },
    {
     "cell_type": "code",
     "collapsed": false,
     "input": [
      "# list slices\n",
      "\n",
      "w = [1, 2, 3, 4, 5]\n",
      "\n",
      "# slices - like Matlab and Fortran\n",
      "print(w[2:]) # everything from 2 onwards\n",
      "print(w[:2]) # right hand index is exclusive\n",
      "print(w[:2] + w[2:]) # list concatenation\n",
      "\n",
      "# you can do subranges\n",
      "print(w[1:3])\n",
      "\n",
      "# you can do skips\n",
      "print(w[::2])\n",
      "\n",
      "# even in reverse\n",
      "print(w[::-1])\n",
      "\n",
      "# you can combine them all together\n",
      "print(w[3:0:-2]) # notice I had to do 3 to 0 by -2 to go in reverse"
     ],
     "language": "python",
     "metadata": {},
     "outputs": [
      {
       "output_type": "stream",
       "stream": "stdout",
       "text": [
        "[3, 4, 5]\n",
        "[1, 2]\n",
        "[1, 2, 3, 4, 5]\n",
        "[2, 3]\n",
        "[1, 3, 5]\n",
        "[5, 4, 3, 2, 1]\n",
        "[4, 2]\n",
        "['first', 4, 3, 2, 1] [1, 2, 3, 4, 5]\n",
        "['first', 4, 3, 2, 'last'] ['first', 4, 3, 2, 1]\n"
       ]
      }
     ],
     "prompt_number": 104
    },
    {
     "cell_type": "code",
     "collapsed": false,
     "input": [
      "w = [1, 2, 3, 4, 5]\n",
      "\n",
      "# a slice is a copy\n",
      "v = w[::-1]\n",
      "v[0] = 'first'\n",
      "print(v, w)\n",
      "\n",
      "# such that : means copy\n",
      "u = v[:]\n",
      "u[-1] = 'last'\n",
      "print(u, v)"
     ],
     "language": "python",
     "metadata": {},
     "outputs": [
      {
       "output_type": "stream",
       "stream": "stdout",
       "text": [
        "['first', 4, 3, 2, 1] [1, 2, 3, 4, 5]\n",
        "['first', 4, 3, 2, 'last'] ['first', 4, 3, 2, 1]\n"
       ]
      }
     ],
     "prompt_number": 106
    },
    {
     "cell_type": "code",
     "collapsed": false,
     "input": [
      "# lists of lists\n",
      "\n",
      "x = [[1, 2, 3], [4, 5, 6], [7, 8, 9]] # what about lists of lists?\n",
      "print(x)\n",
      "print(x[0][0]) # double accessors to get the inner list items\n",
      "print(x[-1][-1])\n",
      "print(x[1:][1:]) # except this is probably not what you are expecting\n",
      "\n",
      "y = [['a', 1, 2], [3.0], [4 + 3, ['seven', ['eight']], 'nine']]\n",
      "print(y) # nothing stopping arbitrary list nesting\n",
      "print(y[2][1][1][0]) # anything can go in a list"
     ],
     "language": "python",
     "metadata": {},
     "outputs": [
      {
       "output_type": "stream",
       "stream": "stdout",
       "text": [
        "[[1, 2, 3], [4, 5, 6], [7, 8, 9]]\n",
        "1\n",
        "9\n",
        "[[7, 8, 9]]\n",
        "[['a', 1, 2], [3.0], [7, ['seven', ['eight']], 'nine']]\n",
        "eight\n"
       ]
      }
     ],
     "prompt_number": 108
    },
    {
     "cell_type": "code",
     "collapsed": false,
     "input": [
      "# list iteration\n",
      "\n",
      "z = [1, 2, 3]\n",
      "n = []\n",
      "for i in z: # iterating over a list\n",
      "    n.append(i + 1) # append is a method on a list that modifies it in place (it doesn't return a list)\n",
      "print(n, z)\n",
      "\n",
      "w = [[1, 2], [3, 4], [5, 6]]\n",
      "s = ''\n",
      "for i in w:\n",
      "    for j in i:\n",
      "        s = s + str(j)\n",
      "print(s)\n",
      "        \n",
      "q = []\n",
      "# iterate over two lists in tandem with zip\n",
      "for i, j in zip(z, n):\n",
      "    print('i:', i, 'j:', j, 'i+j:', i + j)\n",
      "    q.append(i + j)\n",
      "print(q)"
     ],
     "language": "python",
     "metadata": {},
     "outputs": [
      {
       "output_type": "stream",
       "stream": "stdout",
       "text": [
        "[2, 3, 4] [1, 2, 3]\n",
        "123456\n",
        "i: 1 j: 2 i+j: 3\n",
        "i: 2 j: 3 i+j: 5\n",
        "i: 3 j: 4 i+j: 7\n",
        "[3, 5, 7]\n"
       ]
      }
     ],
     "prompt_number": 110
    },
    {
     "cell_type": "code",
     "collapsed": false,
     "input": [
      "# if you want to modify a list in place, use the accessors\n",
      "# i.e., like how you would in C\n",
      "z = [1, 2, 3, 4, 5]\n",
      "for i in range(0, len(z)): # range is a special \"list\" (iterator, actually) that gives you integers\n",
      "    z[i] = z[i] + 1\n",
      "print(z) # basically, that was a for loop from 0 to 5 (exclusive)\n",
      "\n",
      "z = [1, 2, 3, 4, 5]\n",
      "for i in z: # this does nothing because i is a copy of the item in z\n",
      "    i = i + 1\n",
      "print(z)\n",
      "\n",
      "# DON'T DO THIS: IT WILL NEVER RETURN\n",
      "# for i in z: # iterating over a list\n",
      "#     z.append(i + 1) # but you just added to the end of z, z keeps growing, so you will never hit the end of z\n",
      "\n",
      "# basically, don't try to modify the list while iterating over it\n",
      "# lots of \"bad\" things can happen"
     ],
     "language": "python",
     "metadata": {},
     "outputs": [
      {
       "output_type": "stream",
       "stream": "stdout",
       "text": [
        "[2, 3, 4, 5, 6]\n",
        "[1, 2, 3, 4, 5]\n"
       ]
      }
     ],
     "prompt_number": 90
    },
    {
     "cell_type": "code",
     "collapsed": false,
     "input": [
      "# copies vs. references\n",
      "a = ['A']\n",
      "b = ['B']\n",
      "c = ['C']\n",
      "d = [a, b, c] # list of lists\n",
      "print('d:', d)\n",
      "print('a:', a, 'b:', b, 'c:', c)\n",
      "\n",
      "d[0] = d[-1] # list c isn't copied\n",
      "print('d:', d) # list c is in both places\n",
      "print('a:', a, 'b:', b, 'c:', c) # a is still the same, and d[0] and d[-1] reference c\n",
      "\n",
      "a[0] = b[0] # this string will be copied\n",
      "print('d:', d) # all the built-in types are copied (int, float, string, etc.)\n",
      "print('a:', a, 'b:', b, 'c:', c) # but built-in data structures lists, classes, maps, etc. are referenced\n",
      "\n",
      "b[0] = '#' # we'll switch b[0] to '#' to show it won't get aliased in a\n",
      "print('d:', d)\n",
      "print('a:', a, 'b:', b, 'c:', c)"
     ],
     "language": "python",
     "metadata": {},
     "outputs": [
      {
       "output_type": "stream",
       "stream": "stdout",
       "text": [
        "d: [['A'], ['B'], ['C']]\n",
        "a: ['A'] b: ['B'] c: ['C']\n",
        "d: [['C'], ['B'], ['C']]\n",
        "a: ['A'] b: ['B'] c: ['C']\n",
        "d: [['C'], ['B'], ['C']]\n",
        "a: ['B'] b: ['B'] c: ['C']\n",
        "d: [['C'], ['#'], ['C']]\n",
        "a: ['B'] b: ['#'] c: ['C']\n"
       ]
      }
     ],
     "prompt_number": 52
    },
    {
     "cell_type": "code",
     "collapsed": false,
     "input": [
      "# tuples - basically, immutable lists\n",
      "empty = ()\n",
      "print(empty)\n",
      "print(len(empty))\n",
      "\n",
      "a = (1, 2, 3)\n",
      "print(a)\n",
      "\n",
      "print(a[0], a[-1], a[1:])\n",
      "\n",
      "for i in a:\n",
      "    print(i + 1)\n",
      "\n",
      "a[0] = 'a' # this is going to fail, because tuples are immutable\n",
      "# strings are immutable, too\n",
      "# s = 'a string'\n",
      "# s[0] = 'a' will fail"
     ],
     "language": "python",
     "metadata": {},
     "outputs": [
      {
       "output_type": "stream",
       "stream": "stdout",
       "text": [
        "()\n",
        "0\n",
        "(1, 2, 3)\n",
        "1 3 (2, 3)\n",
        "2\n",
        "3\n",
        "4\n"
       ]
      },
      {
       "ename": "TypeError",
       "evalue": "'tuple' object does not support item assignment",
       "output_type": "pyerr",
       "traceback": [
        "\u001b[1;31m---------------------------------------------------------------------------\u001b[0m\n\u001b[1;31mTypeError\u001b[0m                                 Traceback (most recent call last)",
        "\u001b[1;32m<ipython-input-91-9a4d37e678eb>\u001b[0m in \u001b[0;36m<module>\u001b[1;34m()\u001b[0m\n\u001b[0;32m     12\u001b[0m     \u001b[0mprint\u001b[0m\u001b[1;33m(\u001b[0m\u001b[0mi\u001b[0m \u001b[1;33m+\u001b[0m \u001b[1;36m1\u001b[0m\u001b[1;33m)\u001b[0m\u001b[1;33m\u001b[0m\u001b[0m\n\u001b[0;32m     13\u001b[0m \u001b[1;33m\u001b[0m\u001b[0m\n\u001b[1;32m---> 14\u001b[1;33m \u001b[0ma\u001b[0m\u001b[1;33m[\u001b[0m\u001b[1;36m0\u001b[0m\u001b[1;33m]\u001b[0m \u001b[1;33m=\u001b[0m \u001b[1;34m'a'\u001b[0m \u001b[1;31m# this is going to fail, because tuples are immutable\u001b[0m\u001b[1;33m\u001b[0m\u001b[0m\n\u001b[0m",
        "\u001b[1;31mTypeError\u001b[0m: 'tuple' object does not support item assignment"
       ]
      }
     ],
     "prompt_number": 91
    },
    {
     "cell_type": "code",
     "collapsed": false,
     "input": [
      "# dicts : maps, hashes, associative arrays\n",
      "\n",
      "empty = {}\n",
      "print(empty)\n",
      "print(empty.keys()) # dicts have keys\n",
      "print(empty.values()) # and values (it's a map)\n",
      "\n",
      "a = {'one': 1, 2: 'two', 'print': print} # we can store all sorts of things in a dict, just like a list and tuple\n",
      "print(a)\n",
      "print(a['one']) # and we can use all sorts of keys\n",
      "print(a[2])\n",
      "print(a['print']) # even functions can be fetched\n",
      "a['print'](\"hi there, I'm a function in a dict!\") # look up a function in a dict and call it\n",
      "\n",
      "for k in a:\n",
      "    print('key:', k, 'value:', a[k])\n",
      "    \n",
      "print('a key' in a) # boolean is another built-in type with values True or Flase\n",
      "a['a key'] # this is going to fail"
     ],
     "language": "python",
     "metadata": {},
     "outputs": [
      {
       "output_type": "stream",
       "stream": "stdout",
       "text": [
        "{}\n",
        "dict_keys([])\n",
        "dict_values([])\n",
        "{2: 'two', 'one': 1, 'print': <built-in function print>}\n",
        "1\n",
        "two\n",
        "<built-in function print>\n",
        "hi there, I'm a function in a dict!\n",
        "key: 2 value: two\n",
        "key: one value: 1\n",
        "key: print value: <built-in function print>\n",
        "False\n"
       ]
      },
      {
       "ename": "KeyError",
       "evalue": "'a key'",
       "output_type": "pyerr",
       "traceback": [
        "\u001b[1;31m---------------------------------------------------------------------------\u001b[0m\n\u001b[1;31mKeyError\u001b[0m                                  Traceback (most recent call last)",
        "\u001b[1;32m<ipython-input-92-525fedd62619>\u001b[0m in \u001b[0;36m<module>\u001b[1;34m()\u001b[0m\n\u001b[0;32m     17\u001b[0m \u001b[1;33m\u001b[0m\u001b[0m\n\u001b[0;32m     18\u001b[0m \u001b[0mprint\u001b[0m\u001b[1;33m(\u001b[0m\u001b[1;34m'a key'\u001b[0m \u001b[1;32min\u001b[0m \u001b[0ma\u001b[0m\u001b[1;33m)\u001b[0m \u001b[1;31m# 'a key' isn't in a\u001b[0m\u001b[1;33m\u001b[0m\u001b[0m\n\u001b[1;32m---> 19\u001b[1;33m \u001b[0ma\u001b[0m\u001b[1;33m[\u001b[0m\u001b[1;34m'a key'\u001b[0m\u001b[1;33m]\u001b[0m \u001b[1;31m# this is going to fail\u001b[0m\u001b[1;33m\u001b[0m\u001b[0m\n\u001b[0m",
        "\u001b[1;31mKeyError\u001b[0m: 'a key'"
       ]
      }
     ],
     "prompt_number": 92
    },
    {
     "cell_type": "code",
     "collapsed": false,
     "input": [
      "# simple boolean expressions\n",
      "\n",
      "s_one = '1'\n",
      "i_one = 1\n",
      "f_one = 1.0\n",
      "i_two = 2\n",
      "i_other_one = 1\n",
      "a_list = [s_one, i_one, f_one, i_two, i_other_one]\n",
      "b_list = [s_one, i_one, f_one, i_two, i_other_one]\n",
      "c_list = ['1', 1, 1.0, 2, 1]\n",
      "\n",
      "print('\"1\" = 1?', s_one == i_one) # strings can't equal numerics\n",
      "print('1 < 2?', i_one < i_two)\n",
      "print('1.0 > 2?', f_one > i_two)\n",
      "print('1 = 1.0?', i_one == f_one)\n",
      "print('\"1\" = str(1)?', s_one == str(i_one)) \n",
      "print('1 =/= 1?', i_one != i_other_one)  \n",
      "print('1 = 1?', i_one is i_one) # is for built-in types is equivalent to ==\n",
      "print('1 = 1?', i_one is i_other_one) \n",
      "print('contents of a_list = contents of b_list?', a_list == b_list) # can do == for lists, which will evaluate each pair \n",
      "print('contents of a_list = contents of c_list?', a_list == c_list)\n",
      "print('ref(a_list) = ref(b_list)?', a_list is b_list) # but is means that they refer to the same object\n",
      "print('ref(a_list) = ref(c_list)?', a_list is c_list)"
     ],
     "language": "python",
     "metadata": {},
     "outputs": [
      {
       "output_type": "stream",
       "stream": "stdout",
       "text": [
        "\"1\" = 1? False\n",
        "1 < 2? True\n",
        "1.0 > 2? False\n",
        "1 = 1.0? True\n",
        "\"1\" = str(1)? True\n",
        "1 =/= 1? False\n",
        "1 = 1? True\n",
        "1 = 1? True\n",
        "contents of a_list = contents of b_list? True\n",
        "contents of a_list = contents of c_list? True\n",
        "ref(a_list) = ref(b_list)? False\n",
        "ref(a_list) = ref(c_list)? False\n"
       ]
      }
     ],
     "prompt_number": 127
    },
    {
     "cell_type": "code",
     "collapsed": false,
     "input": [
      "# compound boolean expressions\n",
      "\n",
      "print(not False)\n",
      "print(False or True)\n",
      "print(True and False)\n",
      "print((False and True) or not True)"
     ],
     "language": "python",
     "metadata": {},
     "outputs": [
      {
       "output_type": "stream",
       "stream": "stdout",
       "text": [
        "True\n",
        "True\n",
        "False\n",
        "False\n"
       ]
      }
     ],
     "prompt_number": 130
    },
    {
     "cell_type": "code",
     "collapsed": false,
     "input": [
      "# if-then-else & block indentation\n",
      "\n",
      "x = 1\n",
      "y = 2\n",
      "z = 3\n",
      "\n",
      "if x < 1 or False:\n",
      "    print('not here')\n",
      "elif y < 2 and True:\n",
      "    print('not here either')\n",
      "elif z > 0:\n",
      "    print('we got here')\n",
      "    if not x != y:\n",
      "        print('nope')\n",
      "    elif z == 3:\n",
      "        print('here too')\n",
      "        if z < y or y < x:\n",
      "            print('not here either')\n",
      "        else:\n",
      "            print('we got all the way here')\n",
      "            while z > x:\n",
      "                z = z - 1\n",
      "                if y > x:\n",
      "                    y = y - x\n",
      "                else:\n",
      "                    y = y - 2\n",
      "            while z >= y:\n",
      "                z = z - 1\n",
      "                if x > 0:\n",
      "                    x = x + 1\n",
      "    else:\n",
      "        print('nada')\n",
      "else:\n",
      "    print('not gonna get here')\n",
      "print(x, y, z)"
     ],
     "language": "python",
     "metadata": {},
     "outputs": [
      {
       "output_type": "stream",
       "stream": "stdout",
       "text": [
        "we got here\n",
        "here too\n",
        "we got all the way here\n",
        "4 -1 -2\n"
       ]
      }
     ],
     "prompt_number": 144
    },
    {
     "cell_type": "code",
     "collapsed": false,
     "input": [
      "# functions and returning\n",
      "\n",
      "def nop():\n",
      "    pass # do nothing\n",
      "\n",
      "print(nop)\n",
      "print(nop()) # returns None if nothing is returned\n",
      "\n",
      "def one():\n",
      "    return 1\n",
      "\n",
      "print(one())\n",
      "\n",
      "# functions are first-class\n",
      "temp = nop\n",
      "nop = one\n",
      "one = temp\n",
      "\n",
      "print(nop(), one())"
     ],
     "language": "python",
     "metadata": {},
     "outputs": [
      {
       "output_type": "stream",
       "stream": "stdout",
       "text": [
        "<function nop at 0xb2a4302c>\n",
        "None\n",
        "1\n",
        "1 None\n"
       ]
      }
     ],
     "prompt_number": 147
    },
    {
     "cell_type": "code",
     "collapsed": false,
     "input": [
      "# arguments to functions and returning values\n",
      "\n",
      "def xyz(x, y, z):\n",
      "    return x, y, z # this means it is returning a tuple\n",
      "\n",
      "print(xyz(1, 2, 3)) \n",
      "\n",
      "def uvw(u, v, w):\n",
      "    return (u, v, w) # we can do it explicitly, too\n",
      "\n",
      "print(uvw(1, 2, 3))\n",
      "\n",
      "def abc(a, b, c):\n",
      "    return [a, b, c] # we can return lists\n",
      "\n",
      "print(abc(1, 2, 3))"
     ],
     "language": "python",
     "metadata": {},
     "outputs": [
      {
       "output_type": "stream",
       "stream": "stdout",
       "text": [
        "(1, 2, 3)\n",
        "(1, 2, 3)\n",
        "[1, 2, 3]\n"
       ]
      }
     ],
     "prompt_number": 151
    },
    {
     "cell_type": "code",
     "collapsed": false,
     "input": [
      "# named arguments and default values\n",
      "\n",
      "def plus_one(x):\n",
      "    return x + 1\n",
      "\n",
      "def func_caller(v, f = plus_one):\n",
      "    "
     ],
     "language": "python",
     "metadata": {},
     "outputs": []
    }
   ],
   "metadata": {}
  }
 ]
}