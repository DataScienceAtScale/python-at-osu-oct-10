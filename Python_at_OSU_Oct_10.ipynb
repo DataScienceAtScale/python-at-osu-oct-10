{
 "metadata": {
  "celltoolbar": "Slideshow",
  "name": "",
  "signature": "sha256:ad83ab864852bf902d85ab3f873465fd4742930d37380f0a2a887548b21c674e"
 },
 "nbformat": 3,
 "nbformat_minor": 0,
 "worksheets": [
  {
   "cells": [
    {
     "cell_type": "markdown",
     "metadata": {
      "slideshow": {
       "slide_type": "slide"
      }
     },
     "source": [
      "<div align=\"center\">\n",
      "<h1>\n",
      "Using Python (& IPython) for Visualization and Computation\n",
      "</h1>\n",
      "<div width=1px height=100px>\n",
      "</div>\n",
      "<h2>\n",
      "Jon Woodring\n",
      "<br>\n",
      "Los Alamos National Laboratory\n",
      "</h2>\n",
      "<h3>\n",
      "The Ohio State University\n",
      "<br>\n",
      "October 10, 2014\n",
      "</h3>\n",
      "</div>"
     ]
    },
    {
     "cell_type": "markdown",
     "metadata": {
      "slideshow": {
       "slide_type": "slide"
      }
     },
     "source": [
      "# To follow along in IPython #\n",
      "\n",
      "## Step One ##\n",
      "\n",
      "Download this IPython notebook at Github:\n",
      "\n",
      "https://github.com/DataScienceAtScale/python-at-osu-oct-10 *then click on the link in the README*\n",
      "\n",
      "or get it directly via\n",
      "\n",
      "https://raw.githubusercontent.com/DataScienceAtScale/python-at-osu-oct-10/master/Python_at_OSU_Oct_10.ipynb\n",
      "\n",
      "# Optionally follow along without IPython #\n",
      "\n",
      "Use nbviewer to see the static version of the notebook in the web:\n",
      "\n",
      "http://nbviewer.ipython.org/github/DataScienceAtScale/python-at-osu-oct-10/blob/master/Python_at_OSU_Oct_10.ipynb\n",
      "\n",
      "**You can stop here if you are viewing the static web version.**\n",
      "\n",
      "# All of these were generated from the same IPython Notebook, including these slides! #"
     ]
    },
    {
     "cell_type": "markdown",
     "metadata": {
      "slideshow": {
       "slide_type": "slide"
      }
     },
     "source": [
      "## Step Two ##\n",
      "\n",
      "Download and install Anaconda Python from Continuum Analytics. Use Python 3.4, as there isn't a good reason to use 2.7 as a beginner:\n",
      "\n",
      "http://continuum.io/downloads#py34\n",
      "\n",
      "### Optional Install ###\n",
      "\n",
      "There are other Python options as well, such as *Python(X,Y)*, *WinPython*, *MiniConda* version of *Anaconda*, or using *pip* to install packages with an existing installed version of *Python*. \n",
      "\n",
      "If you are using any of these versions, also make sure that you install:\n",
      "- IPython Notebook (will also get IPython command line as a dependency)\n",
      "- SciPy (will also get NumPy as a dependency)\n",
      "- Pandas\n",
      "- Matplotlib"
     ]
    },
    {
     "cell_type": "markdown",
     "metadata": {
      "slideshow": {
       "slide_type": "slide"
      }
     },
     "source": [
      "## Step Three ##\n",
      "\n",
      "Launch IPython Notebook in the directory where *Python_at_OSU_Oct_10.ipynb* is located.\n",
      "\n",
      "This will open a webpage for the IPython Notebook interface. From the terminal (for example if you downloaded the notebook in Downloads):\n",
      "\n",
      "```bash\n",
      "$ cd ~/Downloads\n",
      "$ ls Python_at_OSU_Oct_10.ipynb\n",
      "Python_at_OSU_Oct_10.ipynb\n",
      "$ ipython notebook\n",
      "```\n",
      "\n",
      "Alternatively, launch IPython Notebook and copy the notebook file into the directory where ipython was launched:\n",
      "\n",
      "```bash\n",
      "$ cp ~/Downloads/Python_at_OSU_Oct_10.ipynb .\n",
      "$ ipython notebook\n",
      "```"
     ]
    },
    {
     "cell_type": "markdown",
     "metadata": {
      "slideshow": {
       "slide_type": "slide"
      }
     },
     "source": [
      "### What it looks like if you successfully launched IPython Notebook ###\n",
      "\n",
      "![First page when you open IPython Notebook](front.png)"
     ]
    },
    {
     "cell_type": "markdown",
     "metadata": {
      "slideshow": {
       "slide_type": "slide"
      }
     },
     "source": [
      "## Step Four ##\n",
      "\n",
      "Open the notebook (*Python_at_OSU_Oct_10.ipynb*) from the web interface that was opened in your browser:\n",
      "\n",
      "![After opening the notebook file](opened.png)"
     ]
    },
    {
     "cell_type": "markdown",
     "metadata": {
      "slideshow": {
       "slide_type": "slide"
      }
     },
     "source": [
      "# 4 Reasons Why I like Python #\n",
      "\n",
      "## Rather than telling you why you should like it, I'm going to tell you why I like it. ##"
     ]
    },
    {
     "cell_type": "markdown",
     "metadata": {
      "slideshow": {
       "slide_type": "slide"
      }
     },
     "source": [
      "# My 881 project written in Python (taken with with Professor Dey) still works #\n",
      "## I haven't touched it in 10+ years and I just ran it last Friday to see if it worked ##\n",
      "\n",
      "![Curves and subdivision surfaces in Python](881.png)\n",
      "\n",
      "# Yep! Still works! #\n",
      "## I have written volume renderers, high-dimensional visualizations, analysis tools, web servers, benchmarks, parallel processing, data manipulation, demonstrations, etc. all in Python ##"
     ]
    },
    {
     "cell_type": "markdown",
     "metadata": {
      "slideshow": {
       "slide_type": "slide"
      }
     },
     "source": [
      "#import antigravity#\n",
      "\n",
      "![I wrote 20 short programs in Python yesterday.  It was wonderful.  Perl, I'm leaving you.](http://imgs.xkcd.com/comics/python.png)\n",
      "\n",
      "## and a million other things: numerics, graphics, web, GPU, distributed, GUIs, databases, analytics, etc.\n",
      "\n",
      "### The things that Python isn't good at (yet): compilation and shared-memory threading ###"
     ]
    },
    {
     "cell_type": "code",
     "collapsed": false,
     "input": [
      "# The language is fun #\n",
      "\n",
      "# Not much boilerplate - not as lean as Haskell, but not as verbose as Java\n",
      "xs = [x ** 2 for x in range(0, 20) if x % 3 == 0] # a filter and map as a list\n",
      "print(xs[0], xs[1:-1], xs[-1]) # let's print the first item, the last item, and everything in between\n",
      "while len(xs) > 0: # a while loop\n",
      "    if xs[0] % 2 == 0: # if it's divisible by 2\n",
      "        print(xs[0])    # get the first item\n",
      "    xs = xs[1:]        # strip off the rest\n",
      "\n",
      "# \"Functional-ish\" programming with lists, lambdas, first-class functions, partials, closures, etc.\n",
      "funcs = [lambda x: x + 1, lambda x: x - 1, lambda x: x * 2, lambda x: x // 2] # a list of functions\n",
      "print([i(j) for (i, j) in zip(funcs, [2] * len(funcs))]) # let's iterate over the functions\n",
      "\n",
      "# Duck typing for rapid development (though, many would argue that's a flaw-- do more unit testing)\n",
      "class duck:           \n",
      "    def quack(self):\n",
      "        print(\"'quack!'\")\n",
      "class human:\n",
      "    def quack(self):\n",
      "        print('\"quack, I say!\"')\n",
      "ducks = [duck() for i in range(0, 3)] + [human()] # bunch of ducks\n",
      "for d in ducks: # if it walks and talks like a duck\n",
      "    d.quack()   # then, it's a duck"
     ],
     "language": "python",
     "metadata": {
      "slideshow": {
       "slide_type": "slide"
      }
     },
     "outputs": [
      {
       "output_type": "stream",
       "stream": "stdout",
       "text": [
        "0 [9, 36, 81, 144, 225] 324\n",
        "0\n",
        "36\n",
        "144\n",
        "324\n",
        "[3, 1, 4, 1]\n",
        "'quack!'\n",
        "'quack!'\n",
        "'quack!'\n",
        "\"quack, I say!\"\n"
       ]
      }
     ],
     "prompt_number": 15
    },
    {
     "cell_type": "markdown",
     "metadata": {
      "slideshow": {
       "slide_type": "slide"
      }
     },
     "source": [
      "# IPython + Matplotlib + Numpy + SciPy + SQLite = Amazing #\n",
      "\n",
      "## Everything in this tutorial was created with these Python tools ##\n",
      "\n",
      "## A mention goes to Cython, which makes it really easy to call C code directly from Python##"
     ]
    },
    {
     "cell_type": "code",
     "collapsed": false,
     "input": [
      "# So let's get into it\n",
      "\n",
      "print('Hello world!')"
     ],
     "language": "python",
     "metadata": {
      "slideshow": {
       "slide_type": "slide"
      }
     },
     "outputs": [
      {
       "output_type": "stream",
       "stream": "stdout",
       "text": [
        "Hello world!\n"
       ]
      }
     ],
     "prompt_number": 2
    },
    {
     "cell_type": "markdown",
     "metadata": {
      "slideshow": {
       "slide_type": "slide"
      }
     },
     "source": [
      "# Python #\n",
      "\n",
      "- A dynamically typed language (methods and functions are checked at run-time)\n",
      "- Whitespace is meaningful for blocks (no semi-colons/terminators)\n",
      "- Syntax is C-like (Algol-like)\n",
      "- Built-in data types: integers, floating point, strings, etc.\n",
      "- Built-in data structures: tuples, lists, associative maps (dicts/hashes), sets, etc.\n",
      "- Exception handling (try/except)\n",
      "- Functions are first-class (they can be passed around as arguments)\n",
      "- Object-oriented paradigms can be used (classes)\n",
      "- A huge standard library\n",
      "- CPython is the standard implementation, which is interpreted (there are efforts to make JIT compilers, such as *pypy* and *Numba*)\n",
      "- Bind to C for speed (Python is an excellent \"glue\" language)\n"
     ]
    },
    {
     "cell_type": "code",
     "collapsed": false,
     "input": [
      "x = 0 # an integer\n",
      "print(x)\n",
      "\n",
      "y = 1.0 # a floating point\n",
      "print(y)\n",
      "\n",
      "z = 'foo' # a string with quotes\n",
      "print(z)\n",
      "\n",
      "w = \"bar\" # another string with double quotes (either works)\n",
      "print(w)"
     ],
     "language": "python",
     "metadata": {
      "slideshow": {
       "slide_type": "slide"
      }
     },
     "outputs": [
      {
       "output_type": "stream",
       "stream": "stdout",
       "text": [
        "0\n",
        "1.0\n",
        "foo\n",
        "bar\n"
       ]
      }
     ],
     "prompt_number": 13
    },
    {
     "cell_type": "code",
     "collapsed": false,
     "input": [
      "x = 1\n",
      "y = 2\n",
      "z = 3\n",
      "r = 'one'\n",
      "s = 'two'\n",
      "t = 'three'\n",
      "f = 1.0\n",
      "\n",
      "a = x * y + z # expressions look like most other infix notation\n",
      "print(a)\n",
      "\n",
      "print(r + s + t) # concatenating strings\n",
      "\n",
      "print(x + f) # adding numeric types (up casts)\n",
      "\n",
      "print(x + r) # but this doesn't work (won't up cast a numeric to a string, unlike Javascript)"
     ],
     "language": "python",
     "metadata": {},
     "outputs": [
      {
       "output_type": "stream",
       "stream": "stdout",
       "text": [
        "5\n",
        "onetwothree\n",
        "2.0\n"
       ]
      },
      {
       "ename": "TypeError",
       "evalue": "unsupported operand type(s) for +: 'int' and 'str'",
       "output_type": "pyerr",
       "traceback": [
        "\u001b[1;31m---------------------------------------------------------------------------\u001b[0m\n\u001b[1;31mTypeError\u001b[0m                                 Traceback (most recent call last)",
        "\u001b[1;32m<ipython-input-42-e21feb324f6d>\u001b[0m in \u001b[0;36m<module>\u001b[1;34m()\u001b[0m\n\u001b[0;32m     14\u001b[0m \u001b[0mprint\u001b[0m\u001b[1;33m(\u001b[0m\u001b[0mx\u001b[0m \u001b[1;33m+\u001b[0m \u001b[0mf\u001b[0m\u001b[1;33m)\u001b[0m \u001b[1;31m# adding numeric types (up casts)\u001b[0m\u001b[1;33m\u001b[0m\u001b[0m\n\u001b[0;32m     15\u001b[0m \u001b[1;33m\u001b[0m\u001b[0m\n\u001b[1;32m---> 16\u001b[1;33m \u001b[0mprint\u001b[0m\u001b[1;33m(\u001b[0m\u001b[0mx\u001b[0m \u001b[1;33m+\u001b[0m \u001b[0mr\u001b[0m\u001b[1;33m)\u001b[0m \u001b[1;31m# but this doesn't work (won't up cast a numeric to a string, unlike Javascript)\u001b[0m\u001b[1;33m\u001b[0m\u001b[0m\n\u001b[0m",
        "\u001b[1;31mTypeError\u001b[0m: unsupported operand type(s) for +: 'int' and 'str'"
       ]
      }
     ],
     "prompt_number": 42
    },
    {
     "cell_type": "code",
     "collapsed": false,
     "input": [
      "x = [1, 2, 3, 4, 5] # a list of integers\n",
      "print(x)\n",
      "\n",
      "y = [1.0, 2.0, 3.0, 4.0, 5.0] # a list of floating point\n",
      "print(y)\n",
      "\n",
      "z = ['a', 'b', 'c', 'd', 'e'] # a list of strings\n",
      "print(z)\n",
      "\n",
      "w = [1, 'two', 3.0, \"four\", print, 'last'] # can we mix them?\n",
      "print(w) # yes, we can"
     ],
     "language": "python",
     "metadata": {
      "slideshow": {
       "slide_type": "slide"
      }
     },
     "outputs": [
      {
       "output_type": "stream",
       "stream": "stdout",
       "text": [
        "[1, 2, 3, 4, 5]\n",
        "[1.0, 2.0, 3.0, 4.0, 5.0]\n",
        "['a', 'b', 'c', 'd', 'e']\n",
        "[1, 'two', 3.0, 'four', <built-in function print>, 'last']\n"
       ]
      }
     ],
     "prompt_number": 43
    },
    {
     "cell_type": "code",
     "collapsed": false,
     "input": [
      "w = [1, 'two', 3.0, \"four\", print, 'last'] \n",
      "print(w)\n",
      "\n",
      "# accessing is array notation\n",
      "print(w[0]) # first item\n",
      "print(w[1]) # second item\n",
      "print(w[len(w)-1]) # last item\n",
      "print(w[-1]) # this is the last item, too (this is way better than len(w) - 1)\n",
      "print(w[-2]) # second to last\n",
      "\n",
      "w[0] = w[-1] # let's copy the last item to the first\n",
      "print(w[0])"
     ],
     "language": "python",
     "metadata": {},
     "outputs": [
      {
       "output_type": "stream",
       "stream": "stdout",
       "text": [
        "[1, 'two', 3.0, 'four', <built-in function print>, 'last']\n",
        "1\n",
        "two\n",
        "last\n",
        "last\n",
        "<built-in function print>\n",
        "last\n"
       ]
      }
     ],
     "prompt_number": 44
    },
    {
     "cell_type": "code",
     "collapsed": false,
     "input": [
      "x = [[1, 2, 3], [4, 5, 6], [7, 8, 9]] # what about lists of lists?\n",
      "print(x)\n",
      "print(x[0][0]) # double accessors to get the inner list items\n",
      "print(x[-1][-1])\n",
      "\n",
      "y = [['a', 1, 2], [3.0], [4 + 3, ['seven', ['eight']], 'nine']]\n",
      "print(y) # nothing stopping arbitrary list lengths\n",
      "# a Python list is like a \"vector\" in C++\n",
      "# random access, reverse is constant time, etc.\n",
      "\n",
      "z = [1, 2, 3]\n",
      "n = []\n",
      "for i in z: # iterating over a list\n",
      "    n.append(i + 1) # appending to a new list\n",
      "print(n)"
     ],
     "language": "python",
     "metadata": {},
     "outputs": [
      {
       "output_type": "stream",
       "stream": "stdout",
       "text": [
        "[[1, 2, 3], [4, 5, 6], [7, 8, 9]]\n",
        "1\n",
        "9\n",
        "[['a', 1, 2], [3.0], [7, ['seven', ['eight']], 'nine']]\n",
        "[2, 3, 4]\n"
       ]
      }
     ],
     "prompt_number": 48
    },
    {
     "cell_type": "code",
     "collapsed": false,
     "input": [
      "# if you want to modify a list in place, use the accessors\n",
      "# i.e., like how you would in C\n",
      "z = [1, 2, 3]\n",
      "for i in range(0, len(z)): # range is a special \"list\" (iterator, actually) that gives you integers\n",
      "    z[i] = z[i] + 1\n",
      "print(z)\n",
      "\n",
      "z = [1, 2, 3]\n",
      "for i in z: # this does nothing because i is a copy of the item in z\n",
      "    i = i + 1\n",
      "print(z)\n",
      "\n",
      "# DON'T DO THIS: IT WILL NEVER RETURN\n",
      "# for i in z: # iterating over a list\n",
      "#     z.append(i + 1) # but you just added to the end of z, z keeps growing\n",
      "\n",
      "# basically, don't try to modify the list while iterating over it\n",
      "# lots of \"bad\" things can happen"
     ],
     "language": "python",
     "metadata": {},
     "outputs": [
      {
       "output_type": "stream",
       "stream": "stdout",
       "text": [
        "[2, 3, 4]\n",
        "[1, 2, 3]\n"
       ]
      }
     ],
     "prompt_number": 50
    },
    {
     "cell_type": "code",
     "collapsed": false,
     "input": [
      "# copies vs. references\n",
      "a = ['A']\n",
      "b = ['B']\n",
      "c = ['C']\n",
      "d = [a, b, c] # list of lists\n",
      "print('d:', d)\n",
      "print('a:', a, 'b:', b, 'c:', c)\n",
      "\n",
      "d[0] = d[-1] # list c isn't copied\n",
      "print('d:', d) # list c is in both places\n",
      "print('a:', a, 'b:', b, 'c:', c) # a is still the same, and d[0] and d[-1] reference c\n",
      "\n",
      "a[0] = b[0] # this string will be copied\n",
      "print('d:', d) # all the basic types are copied (int, float, string, etc.)\n",
      "print('a:', a, 'b:', b, 'c:', c) # but lists, classes, maps, etc. are referenced\n",
      "\n",
      "b[0] = 'a' # we'll switch b[0] to 'A' to show it won't get aliased in a\n",
      "print('d:', d)\n",
      "print('a:', a, 'b:', b, 'c:', c)"
     ],
     "language": "python",
     "metadata": {},
     "outputs": [
      {
       "output_type": "stream",
       "stream": "stdout",
       "text": [
        "d: [['A'], ['B'], ['C']]\n",
        "a: ['A'] b: ['B'] c: ['C']\n",
        "d: [['C'], ['B'], ['C']]\n",
        "a: ['A'] b: ['B'] c: ['C']\n",
        "d: [['C'], ['B'], ['C']]\n",
        "a: ['B'] b: ['B'] c: ['C']\n",
        "d: [['C'], ['a'], ['C']]\n",
        "a: ['B'] b: ['a'] c: ['C']\n"
       ]
      }
     ],
     "prompt_number": 41
    }
   ],
   "metadata": {}
  }
 ]
}