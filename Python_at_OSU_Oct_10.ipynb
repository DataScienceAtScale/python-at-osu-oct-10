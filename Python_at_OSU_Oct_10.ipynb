{
 "metadata": {
  "celltoolbar": "Slideshow",
  "name": "",
  "signature": "sha256:a44cb2648b5e02b8bab60b45667a1208ee13e86cee018811b51e669e6e70b718"
 },
 "nbformat": 3,
 "nbformat_minor": 0,
 "worksheets": [
  {
   "cells": [
    {
     "cell_type": "markdown",
     "metadata": {
      "slideshow": {
       "slide_type": "slide"
      }
     },
     "source": [
      "<div align=\"center\">\n",
      "<h1>\n",
      "Using Python (& IPython) for Visualization and Computation\n",
      "</h1>\n",
      "<div width=1px height=100px>\n",
      "</div>\n",
      "<h2>\n",
      "Jon Woodring\n",
      "<br>\n",
      "Los Alamos National Laboratory\n",
      "</h2>\n",
      "<h3>\n",
      "The Ohio State University\n",
      "<br>\n",
      "October 10, 2014\n",
      "</h3>\n",
      "</div>"
     ]
    },
    {
     "cell_type": "markdown",
     "metadata": {
      "slideshow": {
       "slide_type": "slide"
      }
     },
     "source": [
      "# To follow along in IPython #\n",
      "\n",
      "## Step One ##\n",
      "\n",
      "Download this IPython notebook at Github:\n",
      "\n",
      "https://github.com/DataScienceAtScale/python-at-osu-oct-10 *then click on the link in the README*\n",
      "\n",
      "or get it directly via\n",
      "\n",
      "https://raw.githubusercontent.com/DataScienceAtScale/python-at-osu-oct-10/master/Python_at_OSU_Oct_10.ipynb\n",
      "\n",
      "# Optionally follow along without IPython #\n",
      "\n",
      "Use nbviewer to see the static version of the notebook in the web:\n",
      "\n",
      "http://nbviewer.ipython.org/github/DataScienceAtScale/python-at-osu-oct-10/blob/master/Python_at_OSU_Oct_10.ipynb\n",
      "\n",
      "**You can stop here if you are viewing the static web version.**\n",
      "\n",
      "# All of these were generated from the same IPython Notebook, including these slides! #"
     ]
    },
    {
     "cell_type": "markdown",
     "metadata": {
      "slideshow": {
       "slide_type": "slide"
      }
     },
     "source": [
      "## Step Two ##\n",
      "\n",
      "Download and install Anaconda Python from Continuum Analytics. Use Python 3.4, as there isn't a good reason to use 2.7 as a beginner:\n",
      "\n",
      "http://continuum.io/downloads#py34\n",
      "\n",
      "### Optional Install ###\n",
      "\n",
      "There are other Python options as well, such as *Python(X,Y)*, *WinPython*, *MiniConda* version of *Anaconda*, or using *pip* to install packages with an existing installed version of *Python*. \n",
      "\n",
      "If you are using any of these versions, also make sure that you install:\n",
      "- IPython Notebook (will also get IPython command line as a dependency)\n",
      "- SciPy (will also get NumPy as a dependency)\n",
      "- Pandas\n",
      "- Matplotlib"
     ]
    },
    {
     "cell_type": "markdown",
     "metadata": {
      "slideshow": {
       "slide_type": "slide"
      }
     },
     "source": [
      "## Step Three ##\n",
      "\n",
      "Launch IPython Notebook in the directory where *Python_at_OSU_Oct_10.ipynb* is located.\n",
      "\n",
      "This will open a webpage for the IPython Notebook interface. From the terminal (for example if you downloaded the notebook in Downloads):\n",
      "\n",
      "```bash\n",
      "$ cd ~/Downloads\n",
      "$ ls Python_at_OSU_Oct_10.ipynb\n",
      "Python_at_OSU_Oct_10.ipynb\n",
      "$ ipython notebook\n",
      "```\n",
      "\n",
      "Alternatively, launch IPython Notebook and copy the notebook file into the directory where ipython was launched:\n",
      "\n",
      "```bash\n",
      "$ cp ~/Downloads/Python_at_OSU_Oct_10.ipynb .\n",
      "$ ipython notebook\n",
      "```"
     ]
    },
    {
     "cell_type": "markdown",
     "metadata": {
      "slideshow": {
       "slide_type": "slide"
      }
     },
     "source": [
      "### What it looks like if you successfully launched IPython Notebook ###\n",
      "\n",
      "![First page when you open IPython Notebook](front.png)"
     ]
    },
    {
     "cell_type": "markdown",
     "metadata": {
      "slideshow": {
       "slide_type": "slide"
      }
     },
     "source": [
      "## Step Four ##\n",
      "\n",
      "Open the notebook (*Python_at_OSU_Oct_10.ipynb*) from the web interface that was opened in your browser:\n",
      "\n",
      "![After opening the notebook file](opened.png)"
     ]
    }
   ],
   "metadata": {}
  }
 ]
}