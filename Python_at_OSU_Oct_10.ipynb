{
 "metadata": {
  "celltoolbar": "Slideshow",
  "name": "",
  "signature": "sha256:ca1f730d4191dd0ece4f14d6471f24821ab82fb1168aa17387c1235d6eb4ee72"
 },
 "nbformat": 3,
 "nbformat_minor": 0,
 "worksheets": [
  {
   "cells": [
    {
     "cell_type": "markdown",
     "metadata": {
      "slideshow": {
       "slide_type": "slide"
      }
     },
     "source": [
      "<div align=\"center\">\n",
      "<h1>\n",
      "Using Python for Visualization and Computation\n",
      "</h1>\n",
      "<div width=1px height=100px>\n",
      "</div>\n",
      "<h2>\n",
      "Jon Woodring\n",
      "<br>\n",
      "Los Alamos National Laboratory\n",
      "</h2>\n",
      "<h3>\n",
      "The Ohio State University\n",
      "<br>\n",
      "October 10, 2014\n",
      "</h3>\n",
      "</div>"
     ]
    },
    {
     "cell_type": "markdown",
     "metadata": {
      "slideshow": {
       "slide_type": "slide"
      }
     },
     "source": [
      "## Step One ##\n",
      "\n",
      "Download this IPython notebook at Github:\n",
      "\n",
      "http://datascience.lanl.gov/some/address/to/come\n",
      "\n",
      "### Optionally without Python ###\n",
      "\n",
      "To follow along without IPython, download the pdf version of this notebook:\n",
      "\n",
      "http://datascience.lanl.gov/some/other/address/to/come\n",
      "\n",
      "Or use nbviewer to see it in the web:\n",
      "\n",
      "http://nbviewer.ipython.org/some/ipython/address\n",
      "\n",
      "**You can stop here if you are viewing the pdf or the web version.**"
     ]
    },
    {
     "cell_type": "markdown",
     "metadata": {
      "slideshow": {
       "slide_type": "slide"
      }
     },
     "source": [
      "## Step Two ##\n",
      "\n",
      "Download and install Anaconda Python from Continuum Analytics. Use Python 3.4, as there isn't a good reason to use 2.7 as a beginner:\n",
      "\n",
      "http://continuum.io/downloads#py34\n",
      "\n",
      "### Optional Install ###\n",
      "\n",
      "There are other Python options as well, such as *Python(X,Y)*, *WinPython*, *MiniConda* version of *Anaconda*, or using *pip* to install packages with an existing installed version of *Python*. \n",
      "\n",
      "If you are using any of these versions, also make sure that you install:\n",
      "- IPython Notebook (will also get IPython command line as a dependency)\n",
      "- SciPy (will also get NumPy as a dependency)\n",
      "- Pandas\n",
      "- Matplotlib"
     ]
    },
    {
     "cell_type": "markdown",
     "metadata": {
      "slideshow": {
       "slide_type": "slide"
      }
     },
     "source": [
      "## Step Three ##\n",
      "\n",
      "Launch IPython Notebook in the directory where *Python_at_OSU_Oct_10.ipynb* is located.\n",
      "\n",
      "This will open a webpage for the IPython Notebook interface. From the terminal (for example if you downloaded the notebook in Downloads):\n",
      "\n",
      "```bash\n",
      "$ cd ~/Downloads\n",
      "$ ls Python_at_OSU_Oct_10.ipynb\n",
      "Python_at_OSU_Oct_10.ipynb\n",
      "$ ipython notebook\n",
      "```\n",
      "\n",
      "Alternatively, launch IPython Notebook and copy the notebook file into the directory where ipython was launched:\n",
      "\n",
      "```bash\n",
      "$ cp ~/Downloads/Python_at_OSU_Oct_10.ipynb .\n",
      "$ ipython notebook\n",
      "```"
     ]
    },
    {
     "cell_type": "markdown",
     "metadata": {
      "slideshow": {
       "slide_type": "slide"
      }
     },
     "source": [
      "### What it looks like if you successfully launched IPython Notebook ###\n",
      "\n",
      "![First page when you open IPython Notebook](front.png)"
     ]
    },
    {
     "cell_type": "markdown",
     "metadata": {
      "slideshow": {
       "slide_type": "slide"
      }
     },
     "source": [
      "## Step Four ##\n",
      "\n",
      "Open the notebook (*Python_at_OSU_Oct_10.png*) from the web interface that was opened in your browser:\n",
      "\n",
      "![After opening the notebook file](opened.png)"
     ]
    }
   ],
   "metadata": {}
  }
 ]
}