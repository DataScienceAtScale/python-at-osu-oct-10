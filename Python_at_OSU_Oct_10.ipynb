{
 "metadata": {
  "name": "",
  "signature": "sha256:85bac2caee3e244cb9470d9adbbcfd72f0a1242c03349a8e644c9132bc3580e7"
 },
 "nbformat": 3,
 "nbformat_minor": 0,
 "worksheets": [
  {
   "cells": [
    {
     "cell_type": "markdown",
     "metadata": {
      "slideshow": {
       "slide_type": "slide"
      }
     },
     "source": [
      "<div align=\"center\">\n",
      "<h1>\n",
      "Using Python (& IPython) for Visualization and Computation\n",
      "</h1>\n",
      "<div width=1px height=100px>\n",
      "</div>\n",
      "<h2>\n",
      "Jon Woodring\n",
      "<br>\n",
      "Los Alamos National Laboratory\n",
      "</h2>\n",
      "<h3>\n",
      "The Ohio State University\n",
      "<br>\n",
      "October 10, 2014\n",
      "</h3>\n",
      "</div>"
     ]
    },
    {
     "cell_type": "markdown",
     "metadata": {
      "slideshow": {
       "slide_type": "slide"
      }
     },
     "source": [
      "# To follow along in IPython #\n",
      "\n",
      "## Step One ##\n",
      "\n",
      "Download this IPython notebook at Github:\n",
      "\n",
      "https://github.com/DataScienceAtScale/python-at-osu-oct-10 *then click on the link in the README*\n",
      "\n",
      "or get it directly via\n",
      "\n",
      "https://raw.githubusercontent.com/DataScienceAtScale/python-at-osu-oct-10/master/Python_at_OSU_Oct_10.ipynb\n",
      "\n",
      "# Optionally follow along without IPython #\n",
      "\n",
      "Use nbviewer to see the static version of the notebook in the web:\n",
      "\n",
      "http://nbviewer.ipython.org/github/DataScienceAtScale/python-at-osu-oct-10/blob/master/Python_at_OSU_Oct_10.ipynb\n",
      "\n",
      "**You can stop here if you are viewing the static web version.**"
     ]
    },
    {
     "cell_type": "markdown",
     "metadata": {
      "slideshow": {
       "slide_type": "slide"
      }
     },
     "source": [
      "## Step Two ##\n",
      "\n",
      "Download and install Anaconda Python from Continuum Analytics. Use Python 3.4, as there isn't a good reason to use 2.7 as a beginner:\n",
      "\n",
      "http://continuum.io/downloads#py34\n",
      "\n",
      "### Optional Install ###\n",
      "\n",
      "There are other Python options as well, such as *Python(X,Y)*, *WinPython*, *MiniConda* version of *Anaconda*, or using *pip* to install packages with an existing installed version of *Python*. \n",
      "\n",
      "If you are using any of these versions, also make sure that you install:\n",
      "- IPython Notebook (will also get IPython command line as a dependency)\n",
      "- SciPy (will also get NumPy as a dependency)\n",
      "- Pandas\n",
      "- Matplotlib"
     ]
    },
    {
     "cell_type": "markdown",
     "metadata": {
      "slideshow": {
       "slide_type": "slide"
      }
     },
     "source": [
      "## Step Three ##\n",
      "\n",
      "Launch IPython Notebook in the directory where *Python_at_OSU_Oct_10.ipynb* is located.\n",
      "\n",
      "This will open a webpage for the IPython Notebook interface. From the terminal (for example if you downloaded the notebook in Downloads):\n",
      "\n",
      "```bash\n",
      "$ cd ~/Downloads\n",
      "$ ls Python_at_OSU_Oct_10.ipynb\n",
      "Python_at_OSU_Oct_10.ipynb\n",
      "$ ipython notebook\n",
      "```\n",
      "\n",
      "Alternatively, launch IPython Notebook and copy the notebook file into the directory where ipython was launched:\n",
      "\n",
      "```bash\n",
      "$ cp ~/Downloads/Python_at_OSU_Oct_10.ipynb .\n",
      "$ ipython notebook\n",
      "```"
     ]
    },
    {
     "cell_type": "markdown",
     "metadata": {
      "slideshow": {
       "slide_type": "slide"
      }
     },
     "source": [
      "### What it looks like if you successfully launched IPython Notebook ###\n",
      "\n",
      "![First page when you open IPython Notebook](front.png)"
     ]
    },
    {
     "cell_type": "markdown",
     "metadata": {
      "slideshow": {
       "slide_type": "slide"
      }
     },
     "source": [
      "## Step Four ##\n",
      "\n",
      "Open the notebook (*Python_at_OSU_Oct_10.ipynb*) from the web interface that was opened in your browser:\n",
      "\n",
      "![After opening the notebook file](opened.png)"
     ]
    },
    {
     "cell_type": "markdown",
     "metadata": {
      "slideshow": {
       "slide_type": "slide"
      }
     },
     "source": [
      "# 3 Reasons Why I like Python #\n",
      "\n",
      "## Rather than telling you why you should like it, I'm going to tell you why I like it. ##"
     ]
    },
    {
     "cell_type": "markdown",
     "metadata": {
      "slideshow": {
       "slide_type": "slide"
      }
     },
     "source": [
      "# #1 My 881 project written in Python (taken with with Professor Dey) still works #\n",
      "## I haven't touched it in 10+ years and I just ran it last Friday to see if it worked ##\n",
      "\n",
      "![Curves and subdivision surfaces in Python](881.png)\n",
      "\n",
      "# Yep! Still works! #\n",
      "## I have written volume renderers, high-dimensional visualizations, analysis tools, web servers, benchmarks, parallel processing, data manipulation, demonstrations, etc. all in Python ##"
     ]
    },
    {
     "cell_type": "markdown",
     "metadata": {
      "slideshow": {
       "slide_type": "slide"
      }
     },
     "source": [
      "# #2 import antigravity #\n",
      "\n",
      "![I wrote 20 short programs in Python yesterday.  It was wonderful.  Perl, I'm leaving you.](http://imgs.xkcd.com/comics/python.png)\n",
      "\n",
      "## and a million other things: numerics, graphics, web, GPU, distributed, GUIs, databases, analytics, etc.\n",
      "\n",
      "### The things that Python isn't good at (yet): compilation and shared-memory threading ###"
     ]
    },
    {
     "cell_type": "markdown",
     "metadata": {
      "slideshow": {
       "slide_type": "slide"
      }
     },
     "source": [
      "# #3 IPython + Matplotlib + Numpy + SciPy + SQLite = Amazing #\n",
      "\n",
      "## Everything in this tutorial was created with these Python tools ##\n",
      "\n",
      "## A mention goes to Cython, which makes it really easy to call C code directly from Python##\n",
      "\n",
      "# Plus, the language is fun. It is so easy to do anything #"
     ]
    },
    {
     "cell_type": "code",
     "collapsed": false,
     "input": [
      "# So let's get into it\n",
      "\n",
      "print('Hello world!')"
     ],
     "language": "python",
     "metadata": {
      "slideshow": {
       "slide_type": "slide"
      }
     },
     "outputs": [
      {
       "output_type": "stream",
       "stream": "stdout",
       "text": [
        "Hello world!\n"
       ]
      }
     ],
     "prompt_number": 1
    },
    {
     "cell_type": "markdown",
     "metadata": {},
     "source": [
      "# Jon shows an #\n",
      "# Interactive Demo of IPython Notebook #\n",
      "# Here #"
     ]
    },
    {
     "cell_type": "markdown",
     "metadata": {
      "slideshow": {
       "slide_type": "slide"
      }
     },
     "source": [
      "# Python #\n",
      "\n",
      "- A dynamically typed language (methods and functions are checked at run-time)\n",
      "- Whitespace is meaningful for blocks (no semi-colons/terminators)\n",
      "- Syntax is C-like (Algol-like)\n",
      "- Built-in data types: integers, floating point, strings, etc.\n",
      "- Built-in data structures: tuples, lists, associative maps (dicts/hashes), sets, etc.\n",
      "- Exception handling (try/except)\n",
      "- Functions are first-class (they can be passed around as arguments)\n",
      "- Object-oriented paradigms can be used (classes)\n",
      "- A huge standard library\n",
      "- CPython is the standard implementation, which is interpreted (there are efforts to make JIT compilers, such as *pypy* and *Numba*)\n",
      "- Bind to C for speed (Python is an excellent \"glue\" language)\n"
     ]
    },
    {
     "cell_type": "code",
     "collapsed": false,
     "input": [
      "# assignment & print function\n",
      "\n",
      "x = 0 # you don't have to declare x first\n",
      "print(x) # calling built-in function\n",
      "\n",
      "y = 1.0 # just assign a literal to a name\n",
      "print(y) # calling looks just like C and other Algol-languages\n",
      "\n",
      "z = 'foo' # a string with quotes\n",
      "print(z) # no semi-colons or other terminators\n",
      "\n",
      "w = \"bar\" # another string with double quotes (either works)\n",
      "print(w)"
     ],
     "language": "python",
     "metadata": {
      "slideshow": {
       "slide_type": "slide"
      }
     },
     "outputs": [
      {
       "output_type": "stream",
       "stream": "stdout",
       "text": [
        "0\n",
        "1.0\n",
        "foo\n",
        "bar\n"
       ]
      }
     ],
     "prompt_number": 2
    },
    {
     "cell_type": "code",
     "collapsed": false,
     "input": [
      "# more assignment & expressions\n",
      "\n",
      "x = 1\n",
      "y = 2\n",
      "z = 3\n",
      "r = 'one'\n",
      "s = 'two'\n",
      "t = 'three'\n",
      "f = 1.0\n",
      "\n",
      "a = x * y + z # expressions look like most other infix notation\n",
      "print(a)\n",
      "\n",
      "print(r + s + t) # concatenating strings & expression \n",
      "                 # in a function argument\n",
      "\n",
      "b, c, d = x + f, 4 * f, y ** z # multiple assigments on one line\n",
      "print(b, c, d) # adding numeric types casts integer to float\n",
      "\n",
      "print(x + r) # but this doesn't work \n",
      "             # (won't cast a numeric to a string, unlike Javascript)"
     ],
     "language": "python",
     "metadata": {},
     "outputs": [
      {
       "output_type": "stream",
       "stream": "stdout",
       "text": [
        "5\n",
        "onetwothree\n",
        "2.0 4.0 8\n"
       ]
      },
      {
       "ename": "TypeError",
       "evalue": "unsupported operand type(s) for +: 'int' and 'str'",
       "output_type": "pyerr",
       "traceback": [
        "\u001b[1;31m---------------------------------------------------------------------------\u001b[0m\n\u001b[1;31mTypeError\u001b[0m                                 Traceback (most recent call last)",
        "\u001b[1;32m<ipython-input-3-1adb0bd1160d>\u001b[0m in \u001b[0;36m<module>\u001b[1;34m()\u001b[0m\n\u001b[0;32m     18\u001b[0m \u001b[0mprint\u001b[0m\u001b[1;33m(\u001b[0m\u001b[0mb\u001b[0m\u001b[1;33m,\u001b[0m \u001b[0mc\u001b[0m\u001b[1;33m,\u001b[0m \u001b[0md\u001b[0m\u001b[1;33m)\u001b[0m \u001b[1;31m# adding numeric types casts integer to float\u001b[0m\u001b[1;33m\u001b[0m\u001b[0m\n\u001b[0;32m     19\u001b[0m \u001b[1;33m\u001b[0m\u001b[0m\n\u001b[1;32m---> 20\u001b[1;33m \u001b[0mprint\u001b[0m\u001b[1;33m(\u001b[0m\u001b[0mx\u001b[0m \u001b[1;33m+\u001b[0m \u001b[0mr\u001b[0m\u001b[1;33m)\u001b[0m \u001b[1;31m# but this doesn't work\u001b[0m\u001b[1;33m\u001b[0m\u001b[0m\n\u001b[0m\u001b[0;32m     21\u001b[0m              \u001b[1;31m# (won't cast a numeric to a string, unlike Javascript)\u001b[0m\u001b[1;33m\u001b[0m\u001b[1;33m\u001b[0m\u001b[0m\n",
        "\u001b[1;31mTypeError\u001b[0m: unsupported operand type(s) for +: 'int' and 'str'"
       ]
      }
     ],
     "prompt_number": 3
    },
    {
     "cell_type": "code",
     "collapsed": false,
     "input": [
      "# conversions and types\n",
      "\n",
      "x = '1.01'\n",
      "\n",
      "print(x, type(x)) # type is another built-in function\n",
      "x = float(x) # x is now a float\n",
      "print(x, type(x)) # print can take multiple arguments\n",
      "x = int(x)\n",
      "print(x, type(x)) # now it's an integer\n",
      "x = str(x)\n",
      "print(x, type(x))"
     ],
     "language": "python",
     "metadata": {},
     "outputs": [
      {
       "output_type": "stream",
       "stream": "stdout",
       "text": [
        "1.01 <class 'str'>\n",
        "1.01 <class 'float'>\n",
        "1 <class 'int'>\n",
        "1 <class 'str'>\n"
       ]
      }
     ],
     "prompt_number": 4
    },
    {
     "cell_type": "code",
     "collapsed": false,
     "input": [
      "# lists (vectors, really)\n",
      "\n",
      "x = [1, 2, 3, 4, 5] # a list of integers\n",
      "print(x)\n",
      "\n",
      "y = [1.0, 2.0, 3.0, 4.0, 5.0] # a list of floating point\n",
      "print(y)\n",
      "\n",
      "z = ['a', 'b', 'c', 'd', 'e'] # a list of strings\n",
      "print(z)\n",
      "\n",
      "w = [1, 'two', 3.0, \"four\", print, 'last'] # can we mix them?\n",
      "print(w) # yes, we can"
     ],
     "language": "python",
     "metadata": {
      "slideshow": {
       "slide_type": "slide"
      }
     },
     "outputs": [
      {
       "output_type": "stream",
       "stream": "stdout",
       "text": [
        "[1, 2, 3, 4, 5]\n",
        "[1.0, 2.0, 3.0, 4.0, 5.0]\n",
        "['a', 'b', 'c', 'd', 'e']\n",
        "[1, 'two', 3.0, 'four', <built-in function print>, 'last']\n"
       ]
      }
     ],
     "prompt_number": 5
    },
    {
     "cell_type": "code",
     "collapsed": false,
     "input": [
      "# accessing lists\n",
      "\n",
      "w = [1, 'two', 3.0, \"four\", print, 'last'] \n",
      "print(w)\n",
      "\n",
      "# accessing is array notation\n",
      "# a Python list is like a \"vector\" in C++\n",
      "# random access, reverse is constant time, etc.\n",
      "print(w[0]) # first item\n",
      "print(w[1]) # second item\n",
      "print(w[len(w)-1]) # last item, len is a built-in function\n",
      "print(w[-1]) # this is the last item, too\n",
      "print(w[-2]) # second to last\n",
      "\n",
      "w[0] = w[-1] # let's copy the last item to the first\n",
      "print(w[0])"
     ],
     "language": "python",
     "metadata": {},
     "outputs": [
      {
       "output_type": "stream",
       "stream": "stdout",
       "text": [
        "[1, 'two', 3.0, 'four', <built-in function print>, 'last']\n",
        "1\n",
        "two\n",
        "last\n",
        "last\n",
        "<built-in function print>\n",
        "last\n"
       ]
      }
     ],
     "prompt_number": 6
    },
    {
     "cell_type": "code",
     "collapsed": false,
     "input": [
      "# list slices\n",
      "\n",
      "w = [1, 2, 3, 4, 5]\n",
      "\n",
      "# slices - like Matlab and Fortran\n",
      "print(w[2:]) # everything from 2 onwards\n",
      "print(w[:2]) # right hand index is exclusive\n",
      "print(w[:2] + w[2:]) # list concatenation\n",
      "\n",
      "# you can do subranges\n",
      "print(w[1:3])\n",
      "\n",
      "# you can do skips\n",
      "print(w[::2])\n",
      "\n",
      "# even in reverse\n",
      "print(w[::-1])\n",
      "\n",
      "# you can combine them all together\n",
      "print(w[3:0:-2]) # notice I had to do 3 to 0 by -2 to go in reverse"
     ],
     "language": "python",
     "metadata": {},
     "outputs": [
      {
       "output_type": "stream",
       "stream": "stdout",
       "text": [
        "[3, 4, 5]\n",
        "[1, 2]\n",
        "[1, 2, 3, 4, 5]\n",
        "[2, 3]\n",
        "[1, 3, 5]\n",
        "[5, 4, 3, 2, 1]\n",
        "[4, 2]\n"
       ]
      }
     ],
     "prompt_number": 7
    },
    {
     "cell_type": "code",
     "collapsed": false,
     "input": [
      "w = [1, 2, 3, 4, 5]\n",
      "\n",
      "# a slice is a copy\n",
      "v = w[::-1]\n",
      "v[0] = 'first'\n",
      "print(v, w)\n",
      "\n",
      "# such that : means copy\n",
      "u = v[:]\n",
      "u[-1] = 'last'\n",
      "print(u, v)"
     ],
     "language": "python",
     "metadata": {},
     "outputs": [
      {
       "output_type": "stream",
       "stream": "stdout",
       "text": [
        "['first', 4, 3, 2, 1] [1, 2, 3, 4, 5]\n",
        "['first', 4, 3, 2, 'last'] ['first', 4, 3, 2, 1]\n"
       ]
      }
     ],
     "prompt_number": 8
    },
    {
     "cell_type": "code",
     "collapsed": false,
     "input": [
      "# lists of lists\n",
      "\n",
      "x = [[1, 2, 3], [4, 5, 6], [7, 8, 9]] # what about lists of lists?\n",
      "print(x)\n",
      "print(x[0][0]) # double accessors to get the inner list items\n",
      "print(x[-1][-1])\n",
      "print(x[1:][1:]) # except this is probably not what you are expecting\n",
      "\n",
      "y = [['a', 1, 2], [3.0], [4 + 3, ['seven', ['eight']], 'nine']]\n",
      "print(y) # nothing stopping arbitrary list nesting\n",
      "print(y[2][1][1][0]) # anything can go in a list"
     ],
     "language": "python",
     "metadata": {},
     "outputs": [
      {
       "output_type": "stream",
       "stream": "stdout",
       "text": [
        "[[1, 2, 3], [4, 5, 6], [7, 8, 9]]\n",
        "1\n",
        "9\n",
        "[[7, 8, 9]]\n",
        "[['a', 1, 2], [3.0], [7, ['seven', ['eight']], 'nine']]\n",
        "eight\n"
       ]
      }
     ],
     "prompt_number": 9
    },
    {
     "cell_type": "code",
     "collapsed": false,
     "input": [
      "# list iteration\n",
      "\n",
      "z = [1, 2, 3]\n",
      "n = []\n",
      "for i in z: # iterating over a list\n",
      "    n.append(i + 1) # append is a method on a list \n",
      "                    # that modifies it in place (it returns None)\n",
      "print(n, z)\n",
      "\n",
      "w = [[1, 2], [3, 4], [5, 6]]\n",
      "s = ''\n",
      "for i in w:\n",
      "    for j in i:\n",
      "        s = s + str(j)\n",
      "print(s)\n",
      "        \n",
      "q = []\n",
      "# iterate over two lists in tandem with zip\n",
      "for i, j in zip(z, n):\n",
      "    print('i:', i, 'j:', j, 'i+j:', i + j)\n",
      "    q.append(i + j)\n",
      "print(q)"
     ],
     "language": "python",
     "metadata": {},
     "outputs": [
      {
       "output_type": "stream",
       "stream": "stdout",
       "text": [
        "[2, 3, 4] [1, 2, 3]\n",
        "123456\n",
        "i: 1 j: 2 i+j: 3\n",
        "i: 2 j: 3 i+j: 5\n",
        "i: 3 j: 4 i+j: 7\n",
        "[3, 5, 7]\n"
       ]
      }
     ],
     "prompt_number": 10
    },
    {
     "cell_type": "code",
     "collapsed": false,
     "input": [
      "# if you want to modify a list in place, use the accessors\n",
      "# i.e., like how you would in C\n",
      "z = [1, 2, 3, 4, 5]\n",
      "for i in range(0, len(z)): # range is a special \"list\" \n",
      "                           # (iterator, actually) \n",
      "                           # that gives you integers\n",
      "    z[i] = z[i] + 1\n",
      "print(z) # basically, that was a for loop from 0 to 5 (exclusive)\n",
      "\n",
      "z = [1, 2, 3, 4, 5]\n",
      "for i in z: # this does nothing because i is a copy of the item in z\n",
      "    i = i + 1\n",
      "print(z)\n",
      "\n",
      "# DON'T DO THIS: IT WILL NEVER RETURN\n",
      "# for i in z: # iterating over a list\n",
      "#     z.append(i + 1) # but you just added to the end of z, \n",
      "#                     # so, z keeps growing, such that \n",
      "#                     # you will never hit the end of z\n",
      "\n",
      "# basically, don't try to modify the list while iterating over it\n",
      "# lots of \"bad\" things can happen"
     ],
     "language": "python",
     "metadata": {},
     "outputs": [
      {
       "output_type": "stream",
       "stream": "stdout",
       "text": [
        "[2, 3, 4, 5, 6]\n",
        "[1, 2, 3, 4, 5]\n"
       ]
      }
     ],
     "prompt_number": 11
    },
    {
     "cell_type": "code",
     "collapsed": false,
     "input": [
      "# copies vs. references\n",
      "a = ['A']\n",
      "b = ['B']\n",
      "c = ['C']\n",
      "d = [a, b, c] # list of lists\n",
      "print('d:', d)\n",
      "print('a:', a, 'b:', b, 'c:', c)\n",
      "\n",
      "d[0] = d[-1] # list c isn't copied\n",
      "print('d:', d) # list c is in both places\n",
      "print('a:', a, 'b:', b, 'c:', c) # a is still the same, \n",
      "                                 # and d[0] and d[-1] reference c\n",
      "\n",
      "temp = a[0]\n",
      "a[0] = b[0] # this string will be copied\n",
      "b[0] = temp\n",
      "print('d:', d) # all the built-in types are copied \n",
      "               # (i.e., int, float, string, etc.)\n",
      "print('a:', a, 'b:', b, 'c:', c) # but built-in data structures \n",
      "                                 # (i.e., lists, classes, maps, etc.)\n",
      "                                 # are referenced"
     ],
     "language": "python",
     "metadata": {},
     "outputs": [
      {
       "output_type": "stream",
       "stream": "stdout",
       "text": [
        "d: [['A'], ['B'], ['C']]\n",
        "a: ['A'] b: ['B'] c: ['C']\n",
        "d: [['C'], ['B'], ['C']]\n",
        "a: ['A'] b: ['B'] c: ['C']\n",
        "d: [['C'], ['A'], ['C']]\n",
        "a: ['B'] b: ['A'] c: ['C']\n"
       ]
      }
     ],
     "prompt_number": 12
    },
    {
     "cell_type": "code",
     "collapsed": false,
     "input": [
      "# tuples - basically, immutable lists\n",
      "empty = ()\n",
      "print(empty)\n",
      "print(len(empty))\n",
      "\n",
      "a = (1, 2, 3)\n",
      "print(a)\n",
      "\n",
      "print(a[0], a[-1], a[1:])\n",
      "\n",
      "for i in a:\n",
      "    print(i + 1)\n",
      "\n",
      "a[0] = 'a' # this is going to fail, because tuples are immutable\n",
      "# strings are immutable, too\n",
      "# s = 'a string'\n",
      "# s[0] = 'a' will fail"
     ],
     "language": "python",
     "metadata": {},
     "outputs": [
      {
       "output_type": "stream",
       "stream": "stdout",
       "text": [
        "()\n",
        "0\n",
        "(1, 2, 3)\n",
        "1 3 (2, 3)\n",
        "2\n",
        "3\n",
        "4\n"
       ]
      },
      {
       "ename": "TypeError",
       "evalue": "'tuple' object does not support item assignment",
       "output_type": "pyerr",
       "traceback": [
        "\u001b[1;31m---------------------------------------------------------------------------\u001b[0m\n\u001b[1;31mTypeError\u001b[0m                                 Traceback (most recent call last)",
        "\u001b[1;32m<ipython-input-13-348201c4d557>\u001b[0m in \u001b[0;36m<module>\u001b[1;34m()\u001b[0m\n\u001b[0;32m     12\u001b[0m     \u001b[0mprint\u001b[0m\u001b[1;33m(\u001b[0m\u001b[0mi\u001b[0m \u001b[1;33m+\u001b[0m \u001b[1;36m1\u001b[0m\u001b[1;33m)\u001b[0m\u001b[1;33m\u001b[0m\u001b[0m\n\u001b[0;32m     13\u001b[0m \u001b[1;33m\u001b[0m\u001b[0m\n\u001b[1;32m---> 14\u001b[1;33m \u001b[0ma\u001b[0m\u001b[1;33m[\u001b[0m\u001b[1;36m0\u001b[0m\u001b[1;33m]\u001b[0m \u001b[1;33m=\u001b[0m \u001b[1;34m'a'\u001b[0m \u001b[1;31m# this is going to fail, because tuples are immutable\u001b[0m\u001b[1;33m\u001b[0m\u001b[0m\n\u001b[0m\u001b[0;32m     15\u001b[0m \u001b[1;31m# strings are immutable, too\u001b[0m\u001b[1;33m\u001b[0m\u001b[1;33m\u001b[0m\u001b[0m\n\u001b[0;32m     16\u001b[0m \u001b[1;31m# s = 'a string'\u001b[0m\u001b[1;33m\u001b[0m\u001b[1;33m\u001b[0m\u001b[0m\n",
        "\u001b[1;31mTypeError\u001b[0m: 'tuple' object does not support item assignment"
       ]
      }
     ],
     "prompt_number": 13
    },
    {
     "cell_type": "code",
     "collapsed": false,
     "input": [
      "# dicts : maps, hashes, associative arrays\n",
      "\n",
      "empty = {}\n",
      "print(empty)\n",
      "print(empty.keys()) # dicts have keys\n",
      "print(empty.values()) # and values (it's a map)\n",
      "\n",
      "a = {'one': 1, 2: 'two', 'print': print} # we can store all \n",
      "                                         # sorts of things in a dict, \n",
      "                                         # just like a list and tuple\n",
      "print(a)\n",
      "print(a['one']) # and we can use all sorts of keys\n",
      "print(a[2])\n",
      "print(a['print']) # even functions can be fetched\n",
      "a['print'](\"hi there, I'm a function in a dict!\") # call it\n",
      "\n",
      "for k in a:\n",
      "    print('key:', k, 'value:', a[k])\n",
      "    \n",
      "print('a key' in a) # boolean is a built-in type: True or False\n",
      "a['a key'] # this is going to fail"
     ],
     "language": "python",
     "metadata": {},
     "outputs": [
      {
       "output_type": "stream",
       "stream": "stdout",
       "text": [
        "{}\n",
        "dict_keys([])\n",
        "dict_values([])\n",
        "{2: 'two', 'print': <built-in function print>, 'one': 1}\n",
        "1\n",
        "two\n",
        "<built-in function print>\n",
        "hi there, I'm a function in a dict!\n",
        "key: 2 value: two\n",
        "key: print value: <built-in function print>\n",
        "key: one value: 1\n",
        "False\n"
       ]
      },
      {
       "ename": "KeyError",
       "evalue": "'a key'",
       "output_type": "pyerr",
       "traceback": [
        "\u001b[1;31m---------------------------------------------------------------------------\u001b[0m\n\u001b[1;31mKeyError\u001b[0m                                  Traceback (most recent call last)",
        "\u001b[1;32m<ipython-input-14-2361f8fa98e9>\u001b[0m in \u001b[0;36m<module>\u001b[1;34m()\u001b[0m\n\u001b[0;32m     19\u001b[0m \u001b[1;33m\u001b[0m\u001b[0m\n\u001b[0;32m     20\u001b[0m \u001b[0mprint\u001b[0m\u001b[1;33m(\u001b[0m\u001b[1;34m'a key'\u001b[0m \u001b[1;32min\u001b[0m \u001b[0ma\u001b[0m\u001b[1;33m)\u001b[0m \u001b[1;31m# boolean is a built-in type: True or False\u001b[0m\u001b[1;33m\u001b[0m\u001b[0m\n\u001b[1;32m---> 21\u001b[1;33m \u001b[0ma\u001b[0m\u001b[1;33m[\u001b[0m\u001b[1;34m'a key'\u001b[0m\u001b[1;33m]\u001b[0m \u001b[1;31m# this is going to fail\u001b[0m\u001b[1;33m\u001b[0m\u001b[0m\n\u001b[0m",
        "\u001b[1;31mKeyError\u001b[0m: 'a key'"
       ]
      }
     ],
     "prompt_number": 14
    },
    {
     "cell_type": "code",
     "collapsed": false,
     "input": [
      "# simple boolean expressions\n",
      "\n",
      "s_one = '1'\n",
      "i_one = 1\n",
      "f_one = 1.0\n",
      "i_two = 2\n",
      "i_other_one = 1\n",
      "a_list = [s_one, i_one, f_one, i_two, i_other_one]\n",
      "b_list = [s_one, i_one, f_one, i_two, i_other_one]\n",
      "c_list = ['1', 1, 1.0, 2, 1]\n",
      "\n",
      "print('\"1\" = 1?', s_one == i_one) # strings can't equal numerics\n",
      "print('1 < 2?', i_one < i_two)\n",
      "print('1.0 > 2?', f_one > i_two)\n",
      "print('1 = 1.0?', i_one == f_one)\n",
      "print('\"1\" = str(1)?', s_one == str(i_one)) \n",
      "print('1 =/= 1?', i_one != i_other_one)  \n",
      "print('1 = 1?', i_one is i_one) # is for built-in types is ==\n",
      "print('1 = 1?', i_one is i_other_one) \n",
      "# can do == for lists, which will evaluate each pair \n",
      "print('contents of a_list = contents of b_list?', a_list == b_list) \n",
      "print('contents of a_list = contents of c_list?', a_list == c_list)\n",
      "# but 'is' tests that they refer to the same object\n",
      "print('ref(a_list) = ref(b_list)?', a_list is b_list) \n",
      "print('ref(a_list) = ref(c_list)?', a_list is c_list)"
     ],
     "language": "python",
     "metadata": {},
     "outputs": [
      {
       "output_type": "stream",
       "stream": "stdout",
       "text": [
        "\"1\" = 1? False\n",
        "1 < 2? True\n",
        "1.0 > 2? False\n",
        "1 = 1.0? True\n",
        "\"1\" = str(1)? True\n",
        "1 =/= 1? False\n",
        "1 = 1? True\n",
        "1 = 1? True\n",
        "contents of a_list = contents of b_list? True\n",
        "contents of a_list = contents of c_list? True\n",
        "ref(a_list) = ref(b_list)? False\n",
        "ref(a_list) = ref(c_list)? False\n"
       ]
      }
     ],
     "prompt_number": 15
    },
    {
     "cell_type": "code",
     "collapsed": false,
     "input": [
      "# compound boolean expressions\n",
      "\n",
      "print(not False)\n",
      "print(False or True)\n",
      "print(True and False)\n",
      "print((False and True) or not True)"
     ],
     "language": "python",
     "metadata": {},
     "outputs": [
      {
       "output_type": "stream",
       "stream": "stdout",
       "text": [
        "True\n",
        "True\n",
        "False\n",
        "False\n"
       ]
      }
     ],
     "prompt_number": 16
    },
    {
     "cell_type": "code",
     "collapsed": false,
     "input": [
      "# if-then-else & block indentation\n",
      "\n",
      "x = 1\n",
      "y = 2\n",
      "z = 3\n",
      "\n",
      "if x < 1 or False:\n",
      "    print('not here')\n",
      "elif y < 2 and True:\n",
      "    print('not here either')\n",
      "elif z > 0:\n",
      "    print('we got here')\n",
      "    if not x != y:\n",
      "        print('nope')\n",
      "    elif z == 3:\n",
      "        print('here too')\n",
      "        if z < y or y < x:\n",
      "            print('not here either')\n",
      "        else:\n",
      "            print('we got all the way here')\n",
      "            while z > x:\n",
      "                z = z - 1\n",
      "                if y > x:\n",
      "                    y = y - x\n",
      "                else:\n",
      "                    y = y - 2\n",
      "            while z >= y:\n",
      "                z = z - 1\n",
      "                if x > 0:\n",
      "                    x = x + 1\n",
      "    else:\n",
      "        print('nada')\n",
      "else:\n",
      "    print('not gonna get here')\n",
      "print(x, y, z)"
     ],
     "language": "python",
     "metadata": {},
     "outputs": [
      {
       "output_type": "stream",
       "stream": "stdout",
       "text": [
        "we got here\n",
        "here too\n",
        "we got all the way here\n",
        "4 -1 -2\n"
       ]
      }
     ],
     "prompt_number": 17
    },
    {
     "cell_type": "code",
     "collapsed": false,
     "input": [
      "# 0-argument functions and returning\n",
      "\n",
      "def nop(): # no argument list\n",
      "    pass # do nothing\n",
      "\n",
      "print(nop) # nop is a function\n",
      "print(nop()) # call it, functions return None \n",
      "             # if there isn't an explicit return\n",
      "\n",
      "def one(): # no argument list\n",
      "    return 1\n",
      "\n",
      "print(one())\n",
      "\n",
      "# functions are first-class\n",
      "temp = nop\n",
      "nop = one\n",
      "one = temp\n",
      "\n",
      "print(nop(), one())"
     ],
     "language": "python",
     "metadata": {},
     "outputs": [
      {
       "output_type": "stream",
       "stream": "stdout",
       "text": [
        "<function nop at 0xb46c1dac>\n",
        "None\n",
        "1\n",
        "1 None\n"
       ]
      }
     ],
     "prompt_number": 18
    },
    {
     "cell_type": "code",
     "collapsed": false,
     "input": [
      "# arguments to functions and returning values\n",
      "\n",
      "def xyz(x): # one argument, no types needed\n",
      "    return x, x # this means it is returning a tuple\n",
      "\n",
      "print(xyz(1)) \n",
      "\n",
      "def uvw(u, v): # two arguments\n",
      "    return (u, v) # we can do it explicitly, too\n",
      "\n",
      "print(uvw(1, 2))\n",
      "\n",
      "def abc(a, b, c):\n",
      "    return [a, b, c] # we can return lists\n",
      "\n",
      "print(abc(1, 2, 3))"
     ],
     "language": "python",
     "metadata": {},
     "outputs": [
      {
       "output_type": "stream",
       "stream": "stdout",
       "text": [
        "(1, 1)\n",
        "(1, 2)\n",
        "[1, 2, 3]\n"
       ]
      }
     ],
     "prompt_number": 19
    },
    {
     "cell_type": "code",
     "collapsed": false,
     "input": [
      "# recursion works just fine\n",
      "\n",
      "def ye_old_fib(n):\n",
      "    if n < 2:\n",
      "        return 1\n",
      "    else:\n",
      "        return ye_old_fib(n - 1) + ye_old_fib(n - 2)\n",
      "    \n",
      "fibs = []\n",
      "for i in range(0, 10):\n",
      "    fibs = fibs + [ye_old_fib(i)] # append done another way\n",
      "print(fibs)"
     ],
     "language": "python",
     "metadata": {},
     "outputs": [
      {
       "output_type": "stream",
       "stream": "stdout",
       "text": [
        "[1, 1, 2, 3, 5, 8, 13, 21, 34, 55]\n"
       ]
      }
     ],
     "prompt_number": 20
    },
    {
     "cell_type": "code",
     "collapsed": false,
     "input": [
      "# named arguments and default values\n",
      "\n",
      "def plus_one(x):\n",
      "    return x + 1\n",
      "\n",
      "def plus_two(x):\n",
      "    return x + 2\n",
      "\n",
      "# argument v and f have default values\n",
      "def func_caller(v = 1, f = plus_one): \n",
      "    return f(v) # we can call arguments that are functions\n",
      "\n",
      "print(func_caller()) # we don't have to pass an argument for v and f\n",
      "print(func_caller(2)) # they are applied left to right\n",
      "print(func_caller(2, plus_two))\n",
      "print(func_caller(f=plus_two)) # we can bypass the order by naming them\n",
      "    "
     ],
     "language": "python",
     "metadata": {},
     "outputs": [
      {
       "output_type": "stream",
       "stream": "stdout",
       "text": [
        "2\n",
        "3\n",
        "4\n",
        "3\n"
       ]
      }
     ],
     "prompt_number": 21
    },
    {
     "cell_type": "code",
     "collapsed": false,
     "input": [
      "# scope is function level NOT block level\n",
      "# Local Function -> Outer Function -> Global -> Python Defined\n",
      "\n",
      "# assignment determines scope\n",
      "# you can think of '=' as declaration in Python\n",
      "value = 1 # global\n",
      "\n",
      "def modify_value(): \n",
      "    value = 2 # local scope for value\n",
      "    \n",
      "    def modify_modify_value():\n",
      "        value = 3 # inner scope\n",
      "        \n",
      "        if True:\n",
      "            value = 4 # we look at the function scope\n",
      "        \n",
      "        print(value) # this will be 4, not 3\n",
      "    \n",
      "    modify_modify_value()\n",
      "    print(value) # 2 not 3 or 4\n",
      "\n",
      "print(value)\n",
      "modify_value()\n",
      "print(value)\n",
      "del value # remove a name from scope and reclaim memory\n",
      "print(value) # this is going to be undefined"
     ],
     "language": "python",
     "metadata": {},
     "outputs": [
      {
       "output_type": "stream",
       "stream": "stdout",
       "text": [
        "1\n",
        "4\n",
        "2\n",
        "1\n"
       ]
      },
      {
       "ename": "NameError",
       "evalue": "name 'value' is not defined",
       "output_type": "pyerr",
       "traceback": [
        "\u001b[1;31m---------------------------------------------------------------------------\u001b[0m\n\u001b[1;31mNameError\u001b[0m                                 Traceback (most recent call last)",
        "\u001b[1;32m<ipython-input-22-88dc96fa7cc1>\u001b[0m in \u001b[0;36m<module>\u001b[1;34m()\u001b[0m\n\u001b[0;32m     24\u001b[0m \u001b[0mprint\u001b[0m\u001b[1;33m(\u001b[0m\u001b[0mvalue\u001b[0m\u001b[1;33m)\u001b[0m\u001b[1;33m\u001b[0m\u001b[0m\n\u001b[0;32m     25\u001b[0m \u001b[1;32mdel\u001b[0m \u001b[0mvalue\u001b[0m \u001b[1;31m# remove a name from scope and reclaim memory\u001b[0m\u001b[1;33m\u001b[0m\u001b[0m\n\u001b[1;32m---> 26\u001b[1;33m \u001b[0mprint\u001b[0m\u001b[1;33m(\u001b[0m\u001b[0mvalue\u001b[0m\u001b[1;33m)\u001b[0m \u001b[1;31m# this is going to be undefined\u001b[0m\u001b[1;33m\u001b[0m\u001b[0m\n\u001b[0m",
        "\u001b[1;31mNameError\u001b[0m: name 'value' is not defined"
       ]
      }
     ],
     "prompt_number": 22
    },
    {
     "cell_type": "code",
     "collapsed": false,
     "input": [
      "# assignment establishes scope\n",
      "\n",
      "foo = ['bar']\n",
      "\n",
      "def pretend_modify():\n",
      "    foo = ['nope'] # scope established\n",
      "\n",
      "def actually_modify():\n",
      "    foo.append('yep') # we use outer scope\n",
      "                      # because it isn't assignment\n",
      "        \n",
      "def gonna_fail():\n",
      "    foo.append('whoops') # this will break because foo isn't in scope\n",
      "    foo = ['broked']     # because this assignment created a new scope\n",
      "    \n",
      "print(foo)\n",
      "pretend_modify()\n",
      "print(foo)\n",
      "actually_modify()\n",
      "print(foo)\n",
      "gonna_fail()"
     ],
     "language": "python",
     "metadata": {},
     "outputs": [
      {
       "output_type": "stream",
       "stream": "stdout",
       "text": [
        "['bar']\n",
        "['bar']\n",
        "['bar', 'yep']\n"
       ]
      },
      {
       "ename": "UnboundLocalError",
       "evalue": "local variable 'foo' referenced before assignment",
       "output_type": "pyerr",
       "traceback": [
        "\u001b[1;31m---------------------------------------------------------------------------\u001b[0m\n\u001b[1;31mUnboundLocalError\u001b[0m                         Traceback (most recent call last)",
        "\u001b[1;32m<ipython-input-23-9a86c3968aaf>\u001b[0m in \u001b[0;36m<module>\u001b[1;34m()\u001b[0m\n\u001b[0;32m     19\u001b[0m \u001b[0mactually_modify\u001b[0m\u001b[1;33m(\u001b[0m\u001b[1;33m)\u001b[0m\u001b[1;33m\u001b[0m\u001b[0m\n\u001b[0;32m     20\u001b[0m \u001b[0mprint\u001b[0m\u001b[1;33m(\u001b[0m\u001b[0mfoo\u001b[0m\u001b[1;33m)\u001b[0m\u001b[1;33m\u001b[0m\u001b[0m\n\u001b[1;32m---> 21\u001b[1;33m \u001b[0mgonna_fail\u001b[0m\u001b[1;33m(\u001b[0m\u001b[1;33m)\u001b[0m\u001b[1;33m\u001b[0m\u001b[0m\n\u001b[0m",
        "\u001b[1;32m<ipython-input-23-9a86c3968aaf>\u001b[0m in \u001b[0;36mgonna_fail\u001b[1;34m()\u001b[0m\n\u001b[0;32m     11\u001b[0m \u001b[1;33m\u001b[0m\u001b[0m\n\u001b[0;32m     12\u001b[0m \u001b[1;32mdef\u001b[0m \u001b[0mgonna_fail\u001b[0m\u001b[1;33m(\u001b[0m\u001b[1;33m)\u001b[0m\u001b[1;33m:\u001b[0m\u001b[1;33m\u001b[0m\u001b[0m\n\u001b[1;32m---> 13\u001b[1;33m     \u001b[0mfoo\u001b[0m\u001b[1;33m.\u001b[0m\u001b[0mappend\u001b[0m\u001b[1;33m(\u001b[0m\u001b[1;34m'whoops'\u001b[0m\u001b[1;33m)\u001b[0m \u001b[1;31m# this will break because foo isn't in scope\u001b[0m\u001b[1;33m\u001b[0m\u001b[0m\n\u001b[0m\u001b[0;32m     14\u001b[0m     \u001b[0mfoo\u001b[0m \u001b[1;33m=\u001b[0m \u001b[1;33m[\u001b[0m\u001b[1;34m'broked'\u001b[0m\u001b[1;33m]\u001b[0m     \u001b[1;31m# because this assignment created a new scope\u001b[0m\u001b[1;33m\u001b[0m\u001b[0m\n\u001b[0;32m     15\u001b[0m \u001b[1;33m\u001b[0m\u001b[0m\n",
        "\u001b[1;31mUnboundLocalError\u001b[0m: local variable 'foo' referenced before assignment"
       ]
      }
     ],
     "prompt_number": 23
    },
    {
     "cell_type": "code",
     "collapsed": false,
     "input": [
      "# files\n",
      "\n",
      "f = open('foo.txt', 'w')\n",
      "f.write('hi there!\\n')\n",
      "f.close()\n",
      "\n",
      "g = open('foo.txt', 'r')\n",
      "s = g.read(10)\n",
      "g.close()\n",
      "\n",
      "print(s)\n",
      "\n",
      "# the struct module and ctypes are useful for mass binary\n",
      "# conversion of data, as well as the numpy from_file/to_file\n",
      "# operations\n",
      "f = open('bar.bin', 'wb')\n",
      "f.write((10).to_bytes(1, 'little'))\n",
      "f.close()\n",
      "\n",
      "g = open('bar.bin', 'rb')\n",
      "i = int.from_bytes(g.read(1), 'little')\n",
      "g.close()\n",
      "\n",
      "print(i)"
     ],
     "language": "python",
     "metadata": {},
     "outputs": [
      {
       "output_type": "stream",
       "stream": "stdout",
       "text": [
        "hi there!\n",
        "\n",
        "10\n"
       ]
      }
     ],
     "prompt_number": 24
    },
    {
     "cell_type": "code",
     "collapsed": false,
     "input": [
      "# modules, help, and dir\n",
      "\n",
      "l = [1, 2, 3, 4, 5]\n",
      "print(dir(l)) # what's in l?\n",
      "\n",
      "import sys # sys module (a library, basically)\n",
      "print(dir(sys)) # what's in the sys module?\n",
      "\n",
      "from os import * # import everything in os into this namespace\n",
      "print(dir()) # what's in the global namespace, now?\n",
      "\n",
      "print(help(sys)) # get module help\n",
      "\n",
      "print(help(sys.exit)) # get help on sys.exit"
     ],
     "language": "python",
     "metadata": {},
     "outputs": [
      {
       "output_type": "stream",
       "stream": "stdout",
       "text": [
        "['__add__', '__class__', '__contains__', '__delattr__', '__delitem__', '__dir__', '__doc__', '__eq__', '__format__', '__ge__', '__getattribute__', '__getitem__', '__gt__', '__hash__', '__iadd__', '__imul__', '__init__', '__iter__', '__le__', '__len__', '__lt__', '__mul__', '__ne__', '__new__', '__reduce__', '__reduce_ex__', '__repr__', '__reversed__', '__rmul__', '__setattr__', '__setitem__', '__sizeof__', '__str__', '__subclasshook__', 'append', 'clear', 'copy', 'count', 'extend', 'index', 'insert', 'pop', 'remove', 'reverse', 'sort']\n",
        "['__displayhook__', '__doc__', '__excepthook__', '__interactivehook__', '__loader__', '__name__', '__package__', '__spec__', '__stderr__', '__stdin__', '__stdout__', '_clear_type_cache', '_current_frames', '_debugmallocstats', '_getframe', '_home', '_mercurial', '_xoptions', 'abiflags', 'api_version', 'argv', 'base_exec_prefix', 'base_prefix', 'builtin_module_names', 'byteorder', 'call_tracing', 'callstats', 'copyright', 'displayhook', 'dont_write_bytecode', 'exc_info', 'excepthook', 'exec_prefix', 'executable', 'exit', 'flags', 'float_info', 'float_repr_style', 'getallocatedblocks', 'getcheckinterval', 'getdefaultencoding', 'getdlopenflags', 'getfilesystemencoding', 'getprofile', 'getrecursionlimit', 'getrefcount', 'getsizeof', 'getswitchinterval', 'gettrace', 'hash_info', 'hexversion', 'implementation', 'int_info', 'intern', 'last_traceback', 'last_type', 'last_value', 'maxsize', 'maxunicode', 'meta_path', 'modules', 'path', 'path_hooks', 'path_importer_cache', 'platform', 'prefix', 'ps1', 'ps2', 'ps3', 'setcheckinterval', 'setdlopenflags', 'setprofile', 'setrecursionlimit', 'setswitchinterval', 'settrace', 'stderr', 'stdin', 'stdout', 'thread_info', 'version', 'version_info', 'warnoptions']\n",
        "['In', 'Out', 'P_NOWAIT', 'P_NOWAITO', 'P_WAIT', 'SEEK_CUR', 'SEEK_END', 'SEEK_SET', '_', '__', '___', '__builtin__', '__builtins__', '__doc__', '__loader__', '__name__', '__package__', '__spec__', '_dh', '_exit', '_i', '_i1', '_i10', '_i11', '_i12', '_i13', '_i14', '_i15', '_i16', '_i17', '_i18', '_i19', '_i2', '_i20', '_i21', '_i22', '_i23', '_i24', '_i25', '_i3', '_i4', '_i5', '_i6', '_i7', '_i8', '_i9', '_ih', '_ii', '_iii', '_oh', '_sh', 'a', 'a_list', 'abc', 'actually_modify', 'altsep', 'b', 'b_list', 'c', 'c_list', 'curdir', 'd', 'defpath', 'devnull', 'empty', 'environb', 'execl', 'execle', 'execlp', 'execlpe', 'execvp', 'execvpe', 'exit', 'extsep', 'f', 'f_one', 'fdopen', 'fibs', 'foo', 'fsdecode', 'fsencode', 'func_caller', 'fwalk', 'g', 'get_exec_path', 'get_ipython', 'getenv', 'getenvb', 'gonna_fail', 'i', 'i_one', 'i_other_one', 'i_two', 'j', 'k', 'l', 'linesep', 'makedirs', 'modify_value', 'n', 'name', 'nop', 'one', 'pardir', 'path', 'pathsep', 'plus_one', 'plus_two', 'popen', 'pretend_modify', 'putenv', 'q', 'quit', 'r', 'removedirs', 'renames', 's', 's_one', 'sep', 'spawnl', 'spawnle', 'spawnlp', 'spawnlpe', 'spawnv', 'spawnve', 'spawnvp', 'spawnvpe', 'supports_bytes_environ', 'sys', 't', 'temp', 'u', 'unsetenv', 'uvw', 'v', 'w', 'walk', 'x', 'xyz', 'y', 'ye_old_fib', 'z']\n",
        "Help on built-in module sys:\n",
        "\n",
        "NAME\n",
        "    sys\n",
        "\n",
        "MODULE REFERENCE\n",
        "    http://docs.python.org/3.4/library/sys\n",
        "    \n",
        "    The following documentation is automatically generated from the Python\n",
        "    source files.  It may be incomplete, incorrect or include features that\n",
        "    are considered implementation detail and may vary between Python\n",
        "    implementations.  When in doubt, consult the module reference at the\n",
        "    location listed above.\n",
        "\n",
        "DESCRIPTION\n",
        "    This module provides access to some objects used or maintained by the\n",
        "    interpreter and to functions that interact strongly with the interpreter.\n",
        "    \n",
        "    Dynamic objects:\n",
        "    \n",
        "    argv -- command line arguments; argv[0] is the script pathname if known\n",
        "    path -- module search path; path[0] is the script directory, else ''\n",
        "    modules -- dictionary of loaded modules\n",
        "    \n",
        "    displayhook -- called to show results in an interactive session\n",
        "    excepthook -- called to handle any uncaught exception other than SystemExit\n",
        "      To customize printing in an interactive session or to install a custom\n",
        "      top-level exception handler, assign other functions to replace these.\n",
        "    \n",
        "    stdin -- standard input file object; used by input()\n",
        "    stdout -- standard output file object; used by print()\n",
        "    stderr -- standard error object; used for error messages\n",
        "      By assigning other file objects (or objects that behave like files)\n",
        "      to these, it is possible to redirect all of the interpreter's I/O.\n",
        "    \n",
        "    last_type -- type of last uncaught exception\n",
        "    last_value -- value of last uncaught exception\n",
        "    last_traceback -- traceback of last uncaught exception\n",
        "      These three are only available in an interactive session after a\n",
        "      traceback has been printed.\n",
        "    \n",
        "    Static objects:\n",
        "    \n",
        "    builtin_module_names -- tuple of module names built into this interpreter\n",
        "    copyright -- copyright notice pertaining to this interpreter\n",
        "    exec_prefix -- prefix used to find the machine-specific Python library\n",
        "    executable -- absolute path of the executable binary of the Python interpreter\n",
        "    float_info -- a struct sequence with information about the float implementation.\n",
        "    float_repr_style -- string indicating the style of repr() output for floats\n",
        "    hash_info -- a struct sequence with information about the hash algorithm.\n",
        "    hexversion -- version information encoded as a single integer\n",
        "    implementation -- Python implementation information.\n",
        "    int_info -- a struct sequence with information about the int implementation.\n",
        "    maxsize -- the largest supported length of containers.\n",
        "    maxunicode -- the value of the largest Unicode codepoint\n",
        "    platform -- platform identifier\n",
        "    prefix -- prefix used to find the Python library\n",
        "    thread_info -- a struct sequence with information about the thread implementation.\n",
        "    version -- the version of this interpreter as a string\n",
        "    version_info -- version information as a named tuple\n",
        "    __stdin__ -- the original stdin; don't touch!\n",
        "    __stdout__ -- the original stdout; don't touch!\n",
        "    __stderr__ -- the original stderr; don't touch!\n",
        "    __displayhook__ -- the original displayhook; don't touch!\n",
        "    __excepthook__ -- the original excepthook; don't touch!\n",
        "    \n",
        "    Functions:\n",
        "    \n",
        "    displayhook() -- print an object to the screen, and save it in builtins._\n",
        "    excepthook() -- print an exception and its traceback to sys.stderr\n",
        "    exc_info() -- return thread-safe information about the current exception\n",
        "    exit() -- exit the interpreter by raising SystemExit\n",
        "    getdlopenflags() -- returns flags to be used for dlopen() calls\n",
        "    getprofile() -- get the global profiling function\n",
        "    getrefcount() -- return the reference count for an object (plus one :-)\n",
        "    getrecursionlimit() -- return the max recursion depth for the interpreter\n",
        "    getsizeof() -- return the size of an object in bytes\n",
        "    gettrace() -- get the global debug tracing function\n",
        "    setcheckinterval() -- control how often the interpreter checks for events\n",
        "    setdlopenflags() -- set the flags to be used for dlopen() calls\n",
        "    setprofile() -- set the global profiling function\n",
        "    setrecursionlimit() -- set the max recursion depth for the interpreter\n",
        "    settrace() -- set the global debug tracing function\n",
        "\n",
        "FUNCTIONS\n",
        "    __displayhook__ = displayhook(...)\n",
        "        displayhook(object) -> None\n",
        "        \n",
        "        Print an object to sys.stdout and also save it in builtins._\n",
        "    \n",
        "    __excepthook__ = excepthook(...)\n",
        "        excepthook(exctype, value, traceback) -> None\n",
        "        \n",
        "        Handle an exception by displaying it with a traceback on sys.stderr.\n",
        "    \n",
        "    call_tracing(...)\n",
        "        call_tracing(func, args) -> object\n",
        "        \n",
        "        Call func(*args), while tracing is enabled.  The tracing state is\n",
        "        saved, and restored afterwards.  This is intended to be called from\n",
        "        a debugger from a checkpoint, to recursively debug some other code.\n",
        "    \n",
        "    callstats(...)\n",
        "        callstats() -> tuple of integers\n",
        "        \n",
        "        Return a tuple of function call statistics, if CALL_PROFILE was defined\n",
        "        when Python was built.  Otherwise, return None.\n",
        "        \n",
        "        When enabled, this function returns detailed, implementation-specific\n",
        "        details about the number of function calls executed. The return value is\n",
        "        a 11-tuple where the entries in the tuple are counts of:\n",
        "        0. all function calls\n",
        "        1. calls to PyFunction_Type objects\n",
        "        2. PyFunction calls that do not create an argument tuple\n",
        "        3. PyFunction calls that do not create an argument tuple\n",
        "           and bypass PyEval_EvalCodeEx()\n",
        "        4. PyMethod calls\n",
        "        5. PyMethod calls on bound methods\n",
        "        6. PyType calls\n",
        "        7. PyCFunction calls\n",
        "        8. generator calls\n",
        "        9. All other calls\n",
        "        10. Number of stack pops performed by call_function()\n",
        "    \n",
        "    exc_info(...)\n",
        "        exc_info() -> (type, value, traceback)\n",
        "        \n",
        "        Return information about the most recent exception caught by an except\n",
        "        clause in the current stack frame or in an older stack frame.\n",
        "    \n",
        "    exit(...)\n",
        "        exit([status])\n",
        "        \n",
        "        Exit the interpreter by raising SystemExit(status).\n",
        "        If the status is omitted or None, it defaults to zero (i.e., success).\n",
        "        If the status is an integer, it will be used as the system exit status.\n",
        "        If it is another kind of object, it will be printed and the system\n",
        "        exit status will be one (i.e., failure).\n",
        "    \n",
        "    getallocatedblocks(...)\n",
        "        getallocatedblocks() -> integer\n",
        "        \n",
        "        Return the number of memory blocks currently allocated, regardless of their\n",
        "        size.\n",
        "    \n",
        "    getcheckinterval(...)\n",
        "        getcheckinterval() -> current check interval; see setcheckinterval().\n",
        "    \n",
        "    getdefaultencoding(...)\n",
        "        getdefaultencoding() -> string\n",
        "        \n",
        "        Return the current default string encoding used by the Unicode \n",
        "        implementation.\n",
        "    \n",
        "    getdlopenflags(...)\n",
        "        getdlopenflags() -> int\n",
        "        \n",
        "        Return the current value of the flags that are used for dlopen calls.\n",
        "        The flag constants are defined in the os module.\n",
        "    \n",
        "    getfilesystemencoding(...)\n",
        "        getfilesystemencoding() -> string\n",
        "        \n",
        "        Return the encoding used to convert Unicode filenames in\n",
        "        operating system filenames.\n",
        "    \n",
        "    getprofile(...)\n",
        "        getprofile()\n",
        "        \n",
        "        Return the profiling function set with sys.setprofile.\n",
        "        See the profiler chapter in the library manual.\n",
        "    \n",
        "    getrecursionlimit(...)\n",
        "        getrecursionlimit()\n",
        "        \n",
        "        Return the current value of the recursion limit, the maximum depth\n",
        "        of the Python interpreter stack.  This limit prevents infinite\n",
        "        recursion from causing an overflow of the C stack and crashing Python.\n",
        "    \n",
        "    getrefcount(...)\n",
        "        getrefcount(object) -> integer\n",
        "        \n",
        "        Return the reference count of object.  The count returned is generally\n",
        "        one higher than you might expect, because it includes the (temporary)\n",
        "        reference as an argument to getrefcount().\n",
        "    \n",
        "    getsizeof(...)\n",
        "        getsizeof(object, default) -> int\n",
        "        \n",
        "        Return the size of object in bytes.\n",
        "    \n",
        "    getswitchinterval(...)\n",
        "        getswitchinterval() -> current thread switch interval; see setswitchinterval().\n",
        "    \n",
        "    gettrace(...)\n",
        "        gettrace()\n",
        "        \n",
        "        Return the global debug tracing function set with sys.settrace.\n",
        "        See the debugger chapter in the library manual.\n",
        "    \n",
        "    intern(...)\n",
        "        intern(string) -> string\n",
        "        \n",
        "        ``Intern'' the given string.  This enters the string in the (global)\n",
        "        table of interned strings whose purpose is to speed up dictionary lookups.\n",
        "        Return the string itself or the previously interned string object with the\n",
        "        same value.\n",
        "    \n",
        "    setcheckinterval(...)\n",
        "        setcheckinterval(n)\n",
        "        \n",
        "        Tell the Python interpreter to check for asynchronous events every\n",
        "        n instructions.  This also affects how often thread switches occur.\n",
        "    \n",
        "    setdlopenflags(...)\n",
        "        setdlopenflags(n) -> None\n",
        "        \n",
        "        Set the flags used by the interpreter for dlopen calls, such as when the\n",
        "        interpreter loads extension modules.  Among other things, this will enable\n",
        "        a lazy resolving of symbols when importing a module, if called as\n",
        "        sys.setdlopenflags(0).  To share symbols across extension modules, call as\n",
        "        sys.setdlopenflags(os.RTLD_GLOBAL).  Symbolic names for the flag modules\n",
        "        can be found in the os module (RTLD_xxx constants, e.g. os.RTLD_LAZY).\n",
        "    \n",
        "    setprofile(...)\n",
        "        setprofile(function)\n",
        "        \n",
        "        Set the profiling function.  It will be called on each function call\n",
        "        and return.  See the profiler chapter in the library manual.\n",
        "    \n",
        "    setrecursionlimit(...)\n",
        "        setrecursionlimit(n)\n",
        "        \n",
        "        Set the maximum depth of the Python interpreter stack to n.  This\n",
        "        limit prevents infinite recursion from causing an overflow of the C\n",
        "        stack and crashing Python.  The highest possible limit is platform-\n",
        "        dependent.\n",
        "    \n",
        "    setswitchinterval(...)\n",
        "        setswitchinterval(n)\n",
        "        \n",
        "        Set the ideal thread switching delay inside the Python interpreter\n",
        "        The actual frequency of switching threads can be lower if the\n",
        "        interpreter executes long sequences of uninterruptible code\n",
        "        (this is implementation-specific and workload-dependent).\n",
        "        \n",
        "        The parameter must represent the desired switching delay in seconds\n",
        "        A typical value is 0.005 (5 milliseconds).\n",
        "    \n",
        "    settrace(...)\n",
        "        settrace(function)\n",
        "        \n",
        "        Set the global debug tracing function.  It will be called on each\n",
        "        function call.  See the debugger chapter in the library manual.\n",
        "\n",
        "DATA\n",
        "    __stderr__ = <_io.TextIOWrapper name='<stderr>' mode='w' encoding='UTF...\n",
        "    __stdin__ = <_io.TextIOWrapper name='<stdin>' mode='r' encoding='UTF-8...\n",
        "    __stdout__ = <_io.TextIOWrapper name='<stdout>' mode='w' encoding='UTF...\n",
        "    abiflags = 'm'\n",
        "    api_version = 1013\n",
        "    argv = ['-c', '-f', '/home/woodring/.ipython/profile_default/security/...\n",
        "    base_exec_prefix = '/usr'\n",
        "    base_prefix = '/usr'\n",
        "    builtin_module_names = ('_ast', '_codecs', '_collections', '_functools...\n",
        "    byteorder = 'little'\n",
        "    copyright = 'Copyright (c) 2001-2014 Python Software Foundati...ematis...\n",
        "    displayhook = <IPython.kernel.zmq.displayhook.ZMQShellDisplayHook obje...\n",
        "    dont_write_bytecode = False\n",
        "    exec_prefix = '/usr'\n",
        "    executable = '/usr/bin/python3'\n",
        "    flags = sys.flags(debug=0, inspect=0, interactive=0, opt...ing=0, quie...\n",
        "    float_info = sys.float_info(max=1.7976931348623157e+308, max_...epsilo...\n",
        "    float_repr_style = 'short'\n",
        "    hash_info = sys.hash_info(width=32, modulus=2147483647, inf=...iphash2...\n",
        "    hexversion = 50594288\n",
        "    implementation = namespace(cache_tag='cpython-34', hexversion=505...in...\n",
        "    int_info = sys.int_info(bits_per_digit=15, sizeof_digit=2)\n",
        "    last_value = UnboundLocalError(\"local variable 'foo' referenced before...\n",
        "    maxsize = 2147483647\n",
        "    maxunicode = 1114111\n",
        "    meta_path = [<class '_frozen_importlib.BuiltinImporter'>, <class '_fro...\n",
        "    modules = {'IPython': <module 'IPython' from '/usr/lib/python3.4/site-...\n",
        "    path = ['', '/usr/lib/python34.zip', '/usr/lib/python3.4', '/usr/lib/p...\n",
        "    path_hooks = [<class 'zipimport.zipimporter'>, <function FileFinder.pa...\n",
        "    path_importer_cache = {'/home/woodring/.ipython/extensions': FileFinde...\n",
        "    platform = 'linux'\n",
        "    prefix = '/usr'\n",
        "    ps1 = 'In : '\n",
        "    ps2 = '...: '\n",
        "    ps3 = 'Out: '\n",
        "    stderr = <IPython.kernel.zmq.iostream.OutStream object>\n",
        "    stdin = <_io.TextIOWrapper name='<stdin>' mode='r' encoding='UTF-8'>\n",
        "    stdout = <IPython.kernel.zmq.iostream.OutStream object>\n",
        "    thread_info = sys.thread_info(name='pthread', lock='semaphore', versio...\n",
        "    version = '3.4.1 (default, May 19 2014, 17:40:19) \\n[GCC 4.9.0 2014050...\n",
        "    version_info = sys.version_info(major=3, minor=4, micro=1, releaseleve...\n",
        "    warnoptions = []\n",
        "\n",
        "FILE\n",
        "    (built-in)\n",
        "\n",
        "\n",
        "None\n",
        "Help on built-in function exit in module sys:\n",
        "\n",
        "exit(...)\n",
        "    exit([status])\n",
        "    \n",
        "    Exit the interpreter by raising SystemExit(status).\n",
        "    If the status is omitted or None, it defaults to zero (i.e., success).\n",
        "    If the status is an integer, it will be used as the system exit status.\n",
        "    If it is another kind of object, it will be printed and the system\n",
        "    exit status will be one (i.e., failure).\n",
        "\n",
        "None\n"
       ]
      }
     ],
     "prompt_number": 25
    },
    {
     "cell_type": "code",
     "collapsed": false,
     "input": [
      "# some final things to cover \n",
      "# (though, this isn't exhaustive, but a few more useful features)\n",
      "\n",
      "s = set([1, 1, 2, 3, 4, 4]) # sets\n",
      "print(s)\n",
      "print(3 in s)\n",
      "\n",
      "def plus_n(n):\n",
      "    return lambda x: x + n # lambdas are \"anonymous functions\"\n",
      "                           # though, limited to one line expressions in Python\n",
      "\n",
      "plus_two = plus_n(2) # make a plus two function\n",
      "print(plus_two, plus_two(1))\n",
      "        \n",
      "l = [2 ** i for i in range(0, 9) if i > 4] # list expressions\n",
      "                                           # basically, map and filter\n",
      "                                           # reduce is found in functools module\n",
      "print(l)\n",
      "\n",
      "try: # exception handling\n",
      "    print(undefined)\n",
      "except: # you can catch different types of exceptions\n",
      "        # which I am not showing here\n",
      "    print('I caught an error!')\n",
      "finally:\n",
      "    print('and some cleanup')"
     ],
     "language": "python",
     "metadata": {},
     "outputs": [
      {
       "output_type": "stream",
       "stream": "stdout",
       "text": [
        "{1, 2, 3, 4}\n",
        "True\n",
        "<function plus_n.<locals>.<lambda> at 0xb46d32b4> 3\n",
        "[32, 64, 128, 256]\n",
        "I caught an error!\n",
        "and some cleanup\n"
       ]
      }
     ],
     "prompt_number": 29
    },
    {
     "cell_type": "markdown",
     "metadata": {},
     "source": [
      "# OK Break Time #\n",
      "## We'll take a break here before we get into the really fun stuff ##\n",
      "### Ask Questions, Try things out, Go to the Restroom ###\n",
      "### We'll pick up again in a few minutes ###"
     ]
    },
    {
     "cell_type": "markdown",
     "metadata": {},
     "source": [
      "# Running Python from the command line #\n",
      "\n",
      "```bash\n",
      "$ python some_script.py\n",
      "```\n",
      "\n",
      "It's as easy as that. If you are on bash, you can put #!/usr/bin/python on the first line of the script, and then launch it directly if the script is set as executable.\n",
      "\n",
      "# Installing packages that you don't have #\n",
      "\n",
      "- With Anaconda Python\n",
      "```bash\n",
      "$ conda install <some package>\n",
      "```\n",
      "\n",
      "- With pip installed\n",
      "```bash\n",
      "$ pip install --user <some package>\n",
      "```\n",
      "\n",
      "## [PyPI](https://pypi.python.org/pypi) is the standard repository for Python packages ##"
     ]
    },
    {
     "cell_type": "code",
     "collapsed": false,
     "input": [
      "# what's next? numpy\n",
      "\n",
      "import numpy\n",
      "\n",
      "A = numpy.array([1, 2, 3, 4, 5, 6, 7, 8, 9, 10])\n",
      "print(A)\n",
      "\n",
      "# OK, so what's so special about that compared to the list?"
     ],
     "language": "python",
     "metadata": {},
     "outputs": [
      {
       "output_type": "stream",
       "stream": "stdout",
       "text": [
        "[ 1  2  3  4  5  6  7  8  9 10]\n"
       ]
      }
     ],
     "prompt_number": 1
    },
    {
     "cell_type": "code",
     "collapsed": false,
     "input": [
      "# numpy arrays are fast, almost C speed\n",
      "# as long as you do \"large amounts of work\"\n",
      "\n",
      "import time\n",
      "\n",
      "AL = range(0, 1000000)\n",
      "BL = range(0, 1000000)\n",
      "CL = [0] * len(AL)\n",
      "\n",
      "start = time.time()\n",
      "for i in range(0, len(AL)):\n",
      "    CL[i] = AL[i] + BL[i]\n",
      "print(time.time() - start)\n",
      "\n",
      "A = numpy.array(range(0, 1000000), numpy.int32)\n",
      "B = numpy.array(range(0, 1000000), numpy.int32)\n",
      "\n",
      "start = time.time()\n",
      "C = A + B\n",
      "print(time.time() - start)\n"
     ],
     "language": "python",
     "metadata": {},
     "outputs": [
      {
       "output_type": "stream",
       "stream": "stdout",
       "text": [
        "3.7429728507995605\n",
        "0.009889364242553711"
       ]
      },
      {
       "output_type": "stream",
       "stream": "stdout",
       "text": [
        "\n"
       ]
      }
     ],
     "prompt_number": 2
    },
    {
     "cell_type": "code",
     "collapsed": false,
     "input": [
      "# numpy notation is similar to array slicing\n",
      "# and Matlab and Fortran matrix notation\n",
      "\n",
      "A = numpy.array(range(0, 10))\n",
      "\n",
      "V = A[::2] # this is a view (shallow copy)\n",
      "V[0] = -10 # slices are views in numpy\n",
      "print(V, A) \n",
      "B = A.copy() # this is a deep copy of A\n",
      "B[0] = 0\n",
      "print(B, A)\n",
      "\n",
      "C = A[::2] + B[::2]\n",
      "print(C)\n",
      "\n",
      "C = A[1:9] * B[:8]\n",
      "print(C)\n",
      "\n",
      "C = A[1:-3] - B[2:-2]\n",
      "print(C)\n",
      "\n",
      "C = A / B[:5] # this is going to fail, because they aren't the same shape"
     ],
     "language": "python",
     "metadata": {},
     "outputs": [
      {
       "output_type": "stream",
       "stream": "stdout",
       "text": [
        "[-10   2   4   6   8] [-10   1   2   3   4   5   6   7   8   9]\n",
        "[0 1 2 3 4 5 6 7 8 9] [-10   1   2   3   4   5   6   7   8   9]\n",
        "[-10   4   8  12  16]\n",
        "[ 0  2  6 12 20 30 42 56]\n",
        "[-1 -1 -1 -1 -1 -1]\n"
       ]
      },
      {
       "ename": "ValueError",
       "evalue": "operands could not be broadcast together with shapes (10,) (5,) ",
       "output_type": "pyerr",
       "traceback": [
        "\u001b[1;31m---------------------------------------------------------------------------\u001b[0m\n\u001b[1;31mValueError\u001b[0m                                Traceback (most recent call last)",
        "\u001b[1;32m<ipython-input-3-1de9057c7938>\u001b[0m in \u001b[0;36m<module>\u001b[1;34m()\u001b[0m\n\u001b[0;32m     20\u001b[0m \u001b[0mprint\u001b[0m\u001b[1;33m(\u001b[0m\u001b[0mC\u001b[0m\u001b[1;33m)\u001b[0m\u001b[1;33m\u001b[0m\u001b[0m\n\u001b[0;32m     21\u001b[0m \u001b[1;33m\u001b[0m\u001b[0m\n\u001b[1;32m---> 22\u001b[1;33m \u001b[0mC\u001b[0m \u001b[1;33m=\u001b[0m \u001b[0mA\u001b[0m \u001b[1;33m/\u001b[0m \u001b[0mB\u001b[0m\u001b[1;33m[\u001b[0m\u001b[1;33m:\u001b[0m\u001b[1;36m5\u001b[0m\u001b[1;33m]\u001b[0m \u001b[1;31m# this is going to fail, because they aren't the same shape\u001b[0m\u001b[1;33m\u001b[0m\u001b[0m\n\u001b[0m",
        "\u001b[1;31mValueError\u001b[0m: operands could not be broadcast together with shapes (10,) (5,) "
       ]
      }
     ],
     "prompt_number": 3
    },
    {
     "cell_type": "code",
     "collapsed": false,
     "input": [
      "# numpy also supports multi-dimensional arrays\n",
      "# default memory layout is:\n",
      "# C, row-major, right-most index varies fastest\n",
      "\n",
      "A = numpy.array(range(0, 8))\n",
      "A = numpy.reshape(A, (2, 2, 2)) # change the shape of an array\n",
      "                                # the total size (elements) must be the same\n",
      "print(A)\n",
      "\n",
      "print(A[0,0,0]) # this is different from nested lists\n",
      "print(A[1,1,1])\n",
      "\n",
      "A = numpy.transpose(A, axes=[0,2,1]) # swap around axes\n",
      "print(A)"
     ],
     "language": "python",
     "metadata": {},
     "outputs": [
      {
       "output_type": "stream",
       "stream": "stdout",
       "text": [
        "[[[0 1]\n",
        "  [2 3]]\n",
        "\n",
        " [[4 5]\n",
        "  [6 7]]]\n",
        "0\n",
        "7\n",
        "[[[0 2]\n",
        "  [1 3]]\n",
        "\n",
        " [[4 6]\n",
        "  [5 7]]]\n"
       ]
      }
     ],
     "prompt_number": 4
    },
    {
     "cell_type": "code",
     "collapsed": false,
     "input": [
      "# numpy also supports \"broadcasting\"\n",
      "\n",
      "A = numpy.array(range(0, 4))\n",
      "A = numpy.reshape(A, (2, 2))\n",
      "\n",
      "print(A) # a 2x2 matrix\n",
      "\n",
      "A = A + 1 # 1 is added to all elements\n",
      "print(A)\n",
      "\n",
      "v = numpy.array([-1, 1]) # let's make a vector\n",
      "v = numpy.reshape(v, (2, 1)) # a column vector\n",
      "print(v)\n",
      "\n",
      "A = A * v # v gets broadcast over the columns\n",
      "print(A)\n",
      "\n",
      "v = numpy.reshape(v, (1, 2)) # now it's a row vector\n",
      "print(v)\n",
      "\n",
      "A = A - v # v gets broadcast over the rows\n",
      "print(A)"
     ],
     "language": "python",
     "metadata": {},
     "outputs": [
      {
       "output_type": "stream",
       "stream": "stdout",
       "text": [
        "[[0 1]\n",
        " [2 3]]\n",
        "[[1 2]\n",
        " [3 4]]\n",
        "[[-1]\n",
        " [ 1]]\n",
        "[[-1 -2]\n",
        " [ 3  4]]\n",
        "[[-1  1]]\n",
        "[[ 0 -3]\n",
        " [ 4  3]]\n"
       ]
      }
     ],
     "prompt_number": 5
    },
    {
     "cell_type": "code",
     "collapsed": false,
     "input": [
      "# you can use arrays to index into arrays\n",
      "\n",
      "A = numpy.array(range(0, 4))\n",
      "A = numpy.reshape(A, (2, 2))\n",
      "\n",
      "I = numpy.array([[0], [0], [0], [0]]) # the shape of the output\n",
      "J = numpy.array([[0], [0], [0], [0]]) # is the same shape as the indices\n",
      "print(A[I,J])\n",
      "\n",
      "I = numpy.array([1, 0, 0]) # the above, the indices were 2x2\n",
      "J = numpy.array([0, 1, 0]) # this one is 3x1\n",
      "print(A[I,J])\n",
      "\n",
      "I = numpy.array([[0], [1]])\n",
      "J = numpy.array([[1], [0]]) # and this is 1x2\n",
      "print(A[I,J])"
     ],
     "language": "python",
     "metadata": {},
     "outputs": [
      {
       "output_type": "stream",
       "stream": "stdout",
       "text": [
        "[[0]\n",
        " [0]\n",
        " [0]\n",
        " [0]]\n",
        "[2 1 0]\n",
        "[[1]\n",
        " [2]]\n"
       ]
      }
     ],
     "prompt_number": 6
    },
    {
     "cell_type": "code",
     "collapsed": false,
     "input": [
      "# you can use boolean arrays to filter out elements\n",
      "A = numpy.array(range(1, 11))\n",
      "b = numpy.array([i % 2 == 0 for i in range(1, 11)]) # all the even elements\n",
      "\n",
      "print(A[b]) # b is the same shape as A\n",
      "            # this is stream compaction\n",
      "            # the output size is equal to the number of Trues\n",
      "\n",
      "print(numpy.where(b, A, 0)) # where generates the same shape as A\n",
      "                            # but replaces A with 0 where b is False\n"
     ],
     "language": "python",
     "metadata": {},
     "outputs": [
      {
       "output_type": "stream",
       "stream": "stdout",
       "text": [
        "[ 2  4  6  8 10]\n",
        "[ 0  2  0  4  0  6  0  8  0 10]\n"
       ]
      }
     ],
     "prompt_number": 7
    },
    {
     "cell_type": "code",
     "collapsed": false,
     "input": [
      "# numpy has a lot of functionality\n",
      "# beyond +, *, - and /\n",
      "# http://docs.scipy.org/doc/numpy/reference/ufuncs.html#available-ufuncs\n",
      "\n",
      "A = numpy.array(range(0, 4))\n",
      "\n",
      "print(numpy.max(A))\n",
      "print(numpy.min(A))\n",
      "print(numpy.sign(A))\n",
      "print(numpy.cos(A))\n",
      "print(A > A)\n",
      "print(A == A)\n",
      "print(-A)"
     ],
     "language": "python",
     "metadata": {},
     "outputs": [
      {
       "output_type": "stream",
       "stream": "stdout",
       "text": [
        "3\n",
        "0\n",
        "[0 1 1 1]\n",
        "[ 1.          0.54030231 -0.41614684 -0.9899925 ]\n",
        "[False False False False]\n",
        "[ True  True  True  True]\n",
        "[ 0 -1 -2 -3]\n"
       ]
      }
     ],
     "prompt_number": 8
    },
    {
     "cell_type": "code",
     "collapsed": false,
     "input": [
      "# and a lot of what you want is probably\n",
      "# in the linear algebra\n",
      "# http://docs.scipy.org/doc/numpy/reference/routines.linalg.html\n",
      "    \n",
      "from numpy.linalg import linalg # a submodule of a module\n",
      "\n",
      "A = numpy.array([[0, 1], [2, 3]])\n",
      "B = numpy.array([[0, -1], [1, 0]])\n",
      "\n",
      "print(linalg.dot(A, B)) # matrix multiply\n",
      "print(numpy.outer(A, B)) # outer product\n",
      "print(linalg.qr(A)) # qr factorization\n",
      "print(linalg.svd(A)) # SVD\n",
      "print(linalg.eig(A)) # eigenvectors and values\n",
      "print(linalg.inv(A)) # inverse of A\n",
      "# etc. "
     ],
     "language": "python",
     "metadata": {},
     "outputs": [
      {
       "output_type": "stream",
       "stream": "stdout",
       "text": [
        "[[ 1  0]\n",
        " [ 3 -2]]\n",
        "[[ 0  0  0  0]\n",
        " [ 0 -1  1  0]\n",
        " [ 0 -2  2  0]\n",
        " [ 0 -3  3  0]]\n",
        "(array([[ 0., -1.],\n",
        "       [-1.,  0.]]), array([[-2., -3.],\n",
        "       [ 0., -1.]]))\n",
        "(array([[-0.22975292, -0.97324899],\n",
        "       [-0.97324899,  0.22975292]]), array([ 3.70245917,  0.54018151]), array([[-0.52573111, -0.85065081],\n",
        "       [ 0.85065081, -0.52573111]]))\n",
        "(array([-0.56155281,  3.56155281]), array([[-0.87192821, -0.27032301],\n",
        "       [ 0.48963374, -0.96276969]]))\n",
        "[[-1.5  0.5]\n",
        " [ 1.   0. ]]\n"
       ]
      }
     ],
     "prompt_number": 18
    },
    {
     "cell_type": "code",
     "collapsed": false,
     "input": [
      "# getting raw binary data in and out of numpy\n",
      "\n",
      "A = numpy.arange(0, 10, .5, numpy.float32)\n",
      "print(A)\n",
      "\n",
      "f = open('foo.bin', 'wb')\n",
      "A.tofile(f) # just do a to file and it will dump it in C-order\n",
      "f.close()\n",
      "\n",
      "la = len(A)\n",
      "A = None\n",
      "print(A)\n",
      "\n",
      "f = open('foo.bin', 'rb')\n",
      "A = numpy.fromfile(f, numpy.float32, la) # to read back in\n",
      "                                         # you have to specify type and number\n",
      "f.close()\n",
      "\n",
      "print(A)"
     ],
     "language": "python",
     "metadata": {},
     "outputs": [
      {
       "output_type": "stream",
       "stream": "stdout",
       "text": [
        "[ 0.   0.5  1.   1.5  2.   2.5  3.   3.5  4.   4.5  5.   5.5  6.   6.5  7.\n",
        "  7.5  8.   8.5  9.   9.5]\n",
        "None\n",
        "[ 0.   0.5  1.   1.5  2.   2.5  3.   3.5  4.   4.5  5.   5.5  6.   6.5  7.\n",
        "  7.5  8.   8.5  9.   9.5]\n"
       ]
      }
     ],
     "prompt_number": 31
    },
    {
     "cell_type": "code",
     "collapsed": false,
     "input": [
      "# next is scipy\n",
      "#\n",
      "# it has lots of specialized functionality\n",
      "# for scientific computing:\n",
      "# FFTs, signal processing, integration, statistics,\n",
      "# interpolation, optimization, graphs, etc.\n",
      "#\n",
      "# http://docs.scipy.org/doc/scipy/reference/\n",
      "\n",
      "from scipy import fftpack\n",
      "\n",
      "A = numpy.array([0, 1, 2, 3, 4, 3, 2, 1])\n",
      "\n",
      "print(fftpack.fft(A)) # fft\n",
      "print(fftpack.ifft(fftpack.fft(A))) # ifft and fft\n",
      "\n",
      "from scipy import optimize\n",
      "\n",
      "B = numpy.array([0, 1, 2, 3, 4, 5, 6, 7])\n",
      "\n",
      "def poly(x, a, b, c): # the model to fit to\n",
      "    return a + b*x + c*x*x\n",
      "\n",
      "print(optimize.curve_fit(poly, B, A)) # outputs a, b, c and covariance matrix"
     ],
     "language": "python",
     "metadata": {},
     "outputs": [
      {
       "output_type": "stream",
       "stream": "stdout",
       "text": [
        "[ 16.00000000 +0.00000000e+00j  -6.82842712 -2.22044605e-16j\n",
        "   0.00000000 -0.00000000e+00j  -1.17157288 -2.22044605e-16j\n",
        "   0.00000000 +0.00000000e+00j  -1.17157288 +2.22044605e-16j\n",
        "   0.00000000 +0.00000000e+00j  -6.82842712 +2.22044605e-16j]\n",
        "[ 0. +0.00000000e+00j  1. +5.55111512e-17j  2. +0.00000000e+00j\n",
        "  3. -5.55111512e-17j  4. +0.00000000e+00j  3. -5.55111512e-17j\n",
        "  2. +0.00000000e+00j  1. +5.55111512e-17j]\n",
        "(array([-0.33333333,  1.85714286, -0.23809524]), array([[ 0.13492064, -0.07142858,  0.00793651],\n",
        "       [-0.07142858,  0.06009071, -0.00793651],\n",
        "       [ 0.00793651, -0.00793651,  0.00113379]]))\n"
       ]
      }
     ],
     "prompt_number": 35
    },
    {
     "cell_type": "code",
     "collapsed": false,
     "input": [
      "# the fun part, plotting the data\n",
      "\n",
      "%matplotlib inline \n",
      "# this \"magic\" is necessary for ipython notebook\n",
      "# it's not necessary (and will be an error)\n",
      "# in normal python\n",
      "\n",
      "import matplotlib.pyplot as plt # this is all you need in python\n",
      "                                # pyplot is the Matlab like plotting interface"
     ],
     "language": "python",
     "metadata": {},
     "outputs": [],
     "prompt_number": 34
    },
    {
     "cell_type": "code",
     "collapsed": false,
     "input": [
      "import functools\n",
      "\n",
      "A = numpy.array([0, 1, 2, 3, 4, 3, 2, 1])\n",
      "B = numpy.array([0, 1, 2, 3, 4, 5, 6, 7])\n",
      "\n",
      "def poly(x, a, b, c):\n",
      "    return a + b*x + c*x*x\n",
      "\n",
      "abc, cov = optimize.curve_fit(poly, B, A) # going to do the least squares fit like before\n",
      "\n",
      "fixed = functools.partial(poly, a=abc[0], b=abc[1], c=abc[2]) # freeze the polynomial\n",
      "fixed = numpy.vectorize(fixed) # create a vectorized version of the function\n",
      "\n",
      "# the start of a plot\n",
      "# pyplot is Matlab like, it is a state machine\n",
      "plt.figure() # start a new plot\n",
      "plt.xlabel('x') # labels\n",
      "plt.ylabel('y')\n",
      "plt.plot(B, fixed(B)) # the x and y values of the model\n",
      "plt.legend('model')\n",
      "plt.plot(B, A, 'o') # 'o' means plot it with circles\n",
      "plt.legend('original')\n",
      "plt.title('least squares fit to quadratic model') # a title\n",
      "plt.show() # show it\n",
      "\n",
      "# plt.savefig('foo.png') # write it to an image"
     ],
     "language": "python",
     "metadata": {},
     "outputs": [
      {
       "metadata": {},
       "output_type": "display_data",
       "png": "[encoded data removed]",
       "text": [
        "<matplotlib.figure.Figure at 0xae7963cc>"
       ]
      },
      {
       "metadata": {},
       "output_type": "display_data",
       "text": [
        "<matplotlib.figure.Figure at 0xae16346c>"
       ]
      }
     ],
     "prompt_number": 52
    }
   ],
   "metadata": {}
  }
 ]
}